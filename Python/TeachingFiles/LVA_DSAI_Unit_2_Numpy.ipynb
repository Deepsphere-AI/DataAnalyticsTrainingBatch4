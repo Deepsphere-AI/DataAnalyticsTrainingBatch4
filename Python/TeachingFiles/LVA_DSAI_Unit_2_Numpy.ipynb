{
  "nbformat": 4,
  "nbformat_minor": 0,
  "metadata": {
    "colab": {
      "provenance": [],
      "include_colab_link": true
    },
    "kernelspec": {
      "name": "python3",
      "display_name": "Python 3"
    },
    "language_info": {
      "name": "python"
    }
  },
  "cells": [
    {
      "cell_type": "markdown",
      "metadata": {
        "id": "view-in-github",
        "colab_type": "text"
      },
      "source": [
        "<a href=\"https://colab.research.google.com/github/Deepsphere-AI/DataAnalyticsTrainingBatch4/blob/main/Python/TeachingFiles/LVA_DSAI_Unit_2_Pandas.ipynb\" target=\"_parent\"><img src=\"https://colab.research.google.com/assets/colab-badge.svg\" alt=\"Open In Colab\"/></a>"
      ]
    },
    {
      "cell_type": "code",
      "execution_count": null,
      "metadata": {
        "id": "Z_-XPbqvTM2V",
        "colab": {
          "base_uri": "https://localhost:8080/"
        },
        "outputId": "449b4277-6f65-45fd-e12a-9c574da6076d"
      },
      "outputs": [
        {
          "output_type": "stream",
          "name": "stdout",
          "text": [
            "[1 2 3 4 5]\n",
            "1.25.2   << Numby Version\n"
          ]
        }
      ],
      "source": [
        "## ~~~~~~~~~~~~~~~~~~~~~~~~~~~~~\n",
        "## NumPy is a Python library.\n",
        "## NumPy is used for working with arrays.\n",
        "## NumPy is short for \"Numerical Python\".\n",
        "###~~~~~~~~~~~~~~~~~~~~~~~~~~~~~\n",
        "#~~~~~~~~~~~~~~~~~~~~~~~~~\n",
        "# NumPy - Example 1 - Simple Example\n",
        "#~~~~~~~~~~~~~~~~~~~~~~~~~\n",
        "import numpy\n",
        "vAR_arr = numpy.array([1,2,3,4,5]) ## Array based on a List\n",
        "#print(vAR_arr)\n",
        "\n",
        "#~~~~~~~~~~~~~~~~~~~~~~~~~\n",
        "# NumPy - Example 2 - Checking NumPy Version\n",
        "#~~~~~~~~~~~~~~~~~~~~~~~~~\n",
        "#print(\"<< Example 2 Checking NumPy Version >>\")\n",
        "\n",
        "import numpy as np ## See the import statement above\n",
        "\n",
        "arr = np.array([1, 2, 3, 4, 5])\n",
        "print(arr)\n",
        "print(np.__version__ + \"   << Numby Version\")"
      ]
    },
    {
      "cell_type": "code",
      "source": [
        "#~~~~~~~~~~~~~~~~~~~~~~~~~\n",
        "# NumPy - Example 3 - Create a NumPy ndarray Object - Array Type\n",
        "#~~~~~~~~~~~~~~~~~~~~~~~~~\n",
        "print(\"<< Example 3 Create a NumPy ndarray Object >>\")\n",
        "import numpy as np\n",
        "arr = np.array([1, 2, 3, 4, 5,\"JOTHI\"]) ## Does this array may give an error since it has a String.\n",
        "print(arr)\n",
        "print(type(arr)) ##  N-dimensional array (ndarray)"
      ],
      "metadata": {
        "id": "yXEMOlsif5Ct"
      },
      "execution_count": null,
      "outputs": []
    },
    {
      "cell_type": "code",
      "source": [
        "#~~~~~~~~~~~~~~~~~~~~~~~~~\n",
        "# NumPy - Example 4 - Use a tuple to create a NumPy array:\n",
        "#~~~~~~~~~~~~~~~~~~~~~~~~~\n",
        "print(\"<< Example 4 Use a tuple to create a NumPy array: >>\")\n",
        "import numpy as np\n",
        "arr = np.array((1, 2, 3, 4, 5)) ## Array based on Tuple\n",
        "print(arr)"
      ],
      "metadata": {
        "id": "bBjQkNOf_xRB"
      },
      "execution_count": null,
      "outputs": []
    },
    {
      "cell_type": "code",
      "source": [
        "#~~~~~~~~~~~~~~~~~~~~~~~~~\n",
        "# NumPy - Example 5 - NumPy Array Indexing: +Access Array Elements\n",
        "#~~~~~~~~~~~~~~~~~~~~~~~~~\n",
        "print(\"<< Example 5 NumPy Array Indexing: + Access Array Elements >>\")\n",
        "import numpy as np\n",
        "arr = np.array([111, 121, 200, 300])\n",
        "print(arr)\n",
        "print(arr[0])\n",
        "print(arr[1])\n",
        "print(arr[2] + arr[3]) ## Adding two elements"
      ],
      "metadata": {
        "id": "319uTgeiAR13"
      },
      "execution_count": null,
      "outputs": []
    },
    {
      "cell_type": "code",
      "source": [
        "#~~~~~~~~~~~~~~~~~~~~~~~~~\n",
        "# NumPy - Example 6 - NumPy Array Slicing\n",
        "# We pass slice instead of index like this: [start:end].\n",
        "# We can also define the step, like this: [start:end:step].\n",
        "#~~~~~~~~~~~~~~~~~~~~~~~~~\n",
        "print(\"<< Example 6 NumPy Array Slicing >>\")\n",
        "import numpy as np\n",
        "arr = np.array([111, 222, 333, 444, 555, 666, 777])\n",
        "\n",
        "print(arr[1:3]) #slice elements from index 1 to index 3 (not included):\n",
        "print(arr[4:]) #slice elements from index 4th to end\n",
        "print(arr[:4]) #slice elements from index 0 to index 4 (not included):\n",
        "print(arr[-3:-1]) # Negative Slicing - Slice from the index 3 from the end to index 1 from the end:\n",
        "print(arr[1:5:2]) #STEP - Return every other element from index 1 to index 5:\n",
        "print(arr[::2]) # Return every other element from the entire array:\n",
        "arr[:]=999 ### What this function does?\n",
        "print(arr)"
      ],
      "metadata": {
        "id": "7HfQFmhfBbRP"
      },
      "execution_count": null,
      "outputs": []
    },
    {
      "cell_type": "code",
      "source": [
        "#~~~~~~~~~~~~~~~~~~~~~~~~~\n",
        "# NumPy - Example 7 - Slicing 2-D Arrays\n",
        "#~~~~~~~~~~~~~~~~~~~~~~~~~\n",
        "print(\"<< Example 7 Slicing 2-D Arrays >>\")\n",
        "import numpy as np\n",
        "arr = np.array([[1, 2, 3, 4, 5], [6, 7, 8, 9, 10]])\n",
        "#print(arr)\n",
        "#print(arr[1, 1:4]) # From the second element, slice elements from index 1 to index 4 (not included):\n",
        "arr = np.array([[1, 2, 3, 4, 5], [6, 7, 8, 9, 10]])\n",
        "print(arr[0:2, 2])  # From both elements, return index 2:"
      ],
      "metadata": {
        "id": "2cHr9or6DanH"
      },
      "execution_count": null,
      "outputs": []
    },
    {
      "cell_type": "code",
      "source": [
        "#~~~~~~~~~~~~~~~~~~~~~~~~~\n",
        "# NumPy - Example 8 - Data Types in NumPy\n",
        "#~~~~~~~~~~~~~~~~~~~~~~~~~\n",
        "## i - integer , ## b - boolean , ## u - unsigned integer , ## f - float , ## c - complex float\n",
        "## m - timedelta , ## M - datetime ,  ## O - object\n",
        "## S - string, ## U - unicode string, ## V - fixed chunk of memory for other type ( void )\n",
        "print(\"<< Example 8 Data Types in NumPy >>\")\n",
        "import numpy as np\n",
        "arr = np.array(['1.1', 2.2, 3.3, 4])\n",
        "#print(arr.dtype)\n",
        "\n",
        "arr = np.array(['apple', 'banana', 'cherry'])\n",
        "#print(arr.dtype)\n",
        "\n",
        "arr = np.array([1, 2, 3, 4], dtype='f') # Create an array with data type string:\n",
        "#print(arr) # What is the outcome and why it prints in such a way\n",
        "#print(arr.dtype)\n",
        "\n",
        "arr = np.array([1, 2, 3, 4], dtype='S') # Create an array with data type 4 bytes integer:\n",
        "print(arr)\n",
        "print(arr.dtype)"
      ],
      "metadata": {
        "id": "XONScVi2FBC-",
        "colab": {
          "base_uri": "https://localhost:8080/"
        },
        "outputId": "9055a9fb-a6f7-4063-8ffa-d24a1d206e79"
      },
      "execution_count": null,
      "outputs": [
        {
          "output_type": "stream",
          "name": "stdout",
          "text": [
            "<< Example 8 Data Types in NumPy >>\n",
            "[b'1' b'2' b'3' b'4']\n",
            "|S1\n"
          ]
        }
      ]
    },
    {
      "cell_type": "code",
      "source": [
        "#~~~~~~~~~~~~~~~~~~~~~~~~~\n",
        "# NumPy - Example 9 - Data Types in NumPy\n",
        "#~~~~~~~~~~~~~~~~~~~~~~~~~\n",
        "\n",
        "print(\"<< Example 9 Change data type from float to integer by using 'i' as parameter value: >>\")\n",
        "import numpy as np\n",
        "arr = np.array([1.1, 2.1, 3.1])\n",
        "#print(arr.dtype)\n",
        "newarr = arr.astype('i') # Change data type from float to integer by using 'i' as parameter value:\n",
        "#print(newarr)\n",
        "#print(newarr.dtype)\n",
        "newarr = arr.astype(int) # Change data type from float to integer by using int as parameter value:\n",
        "print(newarr)\n",
        "print(newarr.dtype)"
      ],
      "metadata": {
        "id": "8wzqvCvZJZAX",
        "colab": {
          "base_uri": "https://localhost:8080/"
        },
        "outputId": "dacd4b9b-e381-47b8-e140-6fbc19eb97c6"
      },
      "execution_count": null,
      "outputs": [
        {
          "output_type": "stream",
          "name": "stdout",
          "text": [
            "<< Example 9 Change data type from float to integer by using 'i' as parameter value: >>\n",
            "[1 2 3]\n",
            "int64\n"
          ]
        }
      ]
    },
    {
      "cell_type": "code",
      "source": [
        "#~~~~~~~~~~~~~~~~~~~~~~~~~\n",
        "# NumPy - Example 10 - Change data type from integer to boolean::\n",
        "#~~~~~~~~~~~~~~~~~~~~~~~~~\n",
        "\n",
        "print(\"<< Example 10 Change data type from integer to boolean: >>\")\n",
        "import numpy as np\n",
        "arr = np.array([1, 0, 13])\n",
        "newarr = arr.astype(bool) # Change data type from integer to boolean::\n",
        "print(newarr) # What is the expected outcome and why it is so\n",
        "print(newarr.dtype)"
      ],
      "metadata": {
        "id": "pe89XnigJ3B2"
      },
      "execution_count": null,
      "outputs": []
    },
    {
      "cell_type": "code",
      "source": [
        "#~~~~~~~~~~~~~~~~~~~~~~~~~\n",
        "# NumPy - Example 11 - Copy and View\n",
        "#~~~~~~~~~~~~~~~~~~~~~~~~~\n",
        "print(\"<< Example 11 Change data type from integer to boolean: >>\")\n",
        "import numpy as np\n",
        "arr = np.array([1, 2, 3, 4, 5])\n",
        "x = arr.copy()\n",
        "x[0] = 999999 # Changing the copy\n",
        "#print(\"COPY-Original\", arr) # Original Array\n",
        "#print(\"Copy\", x) # Copy\n",
        "\n",
        "y = arr.view() # Make a view, change the original array, and display both arrays:\n",
        "arr[0] = 42 # Changing the view\n",
        "print(\"VIEW-Original\", arr) # Original Array\n",
        "print(\"VIEW\",y) # View\n"
      ],
      "metadata": {
        "id": "NpNfGxrCMI8W"
      },
      "execution_count": null,
      "outputs": []
    },
    {
      "cell_type": "code",
      "source": [
        "#~~~~~~~~~~~~~~~~~~~~~~~~~\n",
        "# NumPy - Example 12 - Check if Array \"Owns\" its Data\n",
        "#~~~~~~~~~~~~~~~~~~~~~~~~~\n",
        "print(\"<< Example 12 Change data type from integer to boolean: >>\")\n",
        "import numpy as np\n",
        "arr = np.array([1, 2, 3, 4, 5])\n",
        "x = arr.copy()\n",
        "y = arr.view()\n",
        "print(x.base) # since this is a copied and a seperate data by itself, there is nothig in the base for \"X\"\n",
        "print(x)\n",
        "#print(y.base)\n",
        "#print(y)\n",
        "## The copy owns the data and any changes made to the copy will not affect original array, and any changes made to the original array will not affect the copy.\n",
        "## The view does not own the data and any changes made to the view will affect the original array, and any changes made to the original array will affect the view."
      ],
      "metadata": {
        "id": "DtDJidV4NkbE"
      },
      "execution_count": null,
      "outputs": []
    },
    {
      "cell_type": "code",
      "source": [
        "#~~~~~~~~~~~~~~~~~~~~~~~~~\n",
        "# NumPy - Example 13 - Shape of an Array: The shape of an array is the number of elements in each dimension.\n",
        "#~~~~~~~~~~~~~~~~~~~~~~~~~\n",
        "print(\"<< Example 13 Shape of an Array: The shape of an array is the number of elements in each dimension. >>\")\n",
        "import numpy as np\n",
        "arr = np.array([[1, 2, 3, 4], [5, 6, 7, 8]]) # Print the shape of a 2-D array:\n",
        "print(arr.shape) # Print the shape of a 2-D array:\n",
        "\n",
        "arr = np.array([1, 2, 3, 4], ndmin=5)\n",
        "# Create an array with 5 dimensions using ndmin using a vector with values 1,2,3,4 and verify that last dimension has value 4:\n",
        "#print(arr)\n",
        "#print('shape of array :', arr.shape)\n"
      ],
      "metadata": {
        "id": "T9BQkn_CPChz"
      },
      "execution_count": null,
      "outputs": []
    },
    {
      "cell_type": "code",
      "source": [
        "#~~~~~~~~~~~~~~~~~~~~~~~~~\n",
        "# NumPy - Example 14 - Reshape\n",
        "#~~~~~~~~~~~~~~~~~~~~~~~~~\n",
        "import numpy as np\n",
        "arr = np.array([111, 222, 333, 444, 555, 666, 777, 888])\n",
        "#newarr = arr.reshape(3, 3) # converting 1D array with 8 elements to a 2D array with 3 elements in each dimension\n",
        "#print(newarr)\n",
        "newarr = arr.reshape(2, 4) # converting 1D array with 8 elements to a 2D array with 3 elements in each dimension\n",
        "print(newarr)"
      ],
      "metadata": {
        "id": "oT8G1siMZl8M",
        "colab": {
          "base_uri": "https://localhost:8080/"
        },
        "outputId": "d5e9e1aa-9043-4fb3-ff4b-f23c3fdc7dfc"
      },
      "execution_count": null,
      "outputs": [
        {
          "output_type": "stream",
          "name": "stdout",
          "text": [
            "[[111 222 333 444]\n",
            " [555 666 777 888]]\n"
          ]
        }
      ]
    },
    {
      "cell_type": "code",
      "source": [
        "#~~~~~~~~~~~~~~~~~~~~~~~~~\n",
        "# NumPy - Example 14 - Reshape\n",
        "#~~~~~~~~~~~~~~~~~~~~~~~~~\n",
        "import numpy as np\n",
        "arr = np.array([1, 2, 3, 4, 5, 6, 7, 8, 9, 10, 11, 12]) # Reshape From 1-D to 2-D\n",
        "newarr = arr.reshape(3, 4) #?????\n",
        "#print(newarr)\n",
        "\n",
        "arr = np.array([1, 2, 3, 4, 5, 6, 7, 8, 9, 10, 11, 12]) # Reshape From 1-D to 3-D\n",
        "newarr = arr.reshape(2, 3, 2) #?????\n",
        "print(newarr)"
      ],
      "metadata": {
        "id": "FOujI75nMqUb"
      },
      "execution_count": null,
      "outputs": []
    },
    {
      "cell_type": "code",
      "source": [
        "#~~~~~~~~~~~~~~~~~~~~~~~~~\n",
        "# NumPy - Example 15 - Reshape  Convert the array into a 1D array:\n",
        "#~~~~~~~~~~~~~~~~~~~~~~~~~\n",
        "import numpy as np\n",
        "arr = np.array([[1, 2, 3], [4, 5, 6]])\n",
        "newarr = arr.reshape(-1) # Convert the array into a 1D array:\n",
        "print(newarr)\n",
        "\n",
        "arr = np.array([1, 2, 3, 4, 5, 6, 7, 8]) # Convert 1D array with 8 elements to 3D array\n",
        "newarr = arr.reshape(1, 8, -1) # Convert 1D array with 8 elements to 3D array\n",
        "print(newarr)"
      ],
      "metadata": {
        "id": "X6J_urS1N2TL"
      },
      "execution_count": null,
      "outputs": []
    },
    {
      "cell_type": "code",
      "source": [
        "#~~~~~~~~~~~~~~~~~~~~~~~~~\n",
        "# NumPy - Example 15 - Iterating Arrays\n",
        "#~~~~~~~~~~~~~~~~~~~~~~~~~\n",
        "import numpy as np\n",
        "\n",
        "arr = np.array([1, 2, 3]) #Iterate on the elements of the following 1-D array\n",
        "for x in arr:\n",
        "  print(x)\n",
        "\n",
        "arr = np.array([[1, 2, 3], [4, 5, 6], [7, 8, 9]]) #Iterating 3-D Arrays\n",
        "for x in arr:\n",
        "  print(x)"
      ],
      "metadata": {
        "id": "ml1UBN7lOv6T"
      },
      "execution_count": null,
      "outputs": []
    },
    {
      "cell_type": "code",
      "source": [
        "#~~~~~~~~~~~~~~~~~~~~~~~~~\n",
        "# NumPy - Example 16 - Iterate on each scalar element of the 2-D array:\n",
        "#~~~~~~~~~~~~~~~~~~~~~~~~~\n",
        "import numpy as np\n",
        "arr = np.array([[1, 2, 3], [4, 5, 6]]) # Iterate on each scalar element of the 2-D array:\n",
        "#print(arr)\n",
        "for x in arr:\n",
        "  for y in x:\n",
        "    print(y)"
      ],
      "metadata": {
        "id": "JMhXa6R3PI7D"
      },
      "execution_count": null,
      "outputs": []
    },
    {
      "cell_type": "code",
      "source": [
        "#~~~~~~~~~~~~~~~~~~~~~~~~~\n",
        "# NumPy - Example 17 - Joining NumPy Arrays\n",
        "#~~~~~~~~~~~~~~~~~~~~~~~~~\n",
        "import numpy as np\n",
        "arr1 = np.array([1, 2, 3])\n",
        "arr2 = np.array([4, 5, 6])\n",
        "arr = np.concatenate((arr1, arr2)) #Joining NumPy Arrays\n",
        "#print(arr)\n",
        "\n",
        "arr1 = np.array([[1, 2], [3, 4]])\n",
        "arr2 = np.array([[5, 6], [7, 8]])\n",
        "arr = np.concatenate((arr1, arr2),axis=0) #Join two 2-D arrays along rows (axis=1)\n",
        "print(arr)\n",
        "arr = np.concatenate((arr1, arr2),axis=-1) #Join two 2-D arrays along rows (axis=1)\n",
        "#print(arr)"
      ],
      "metadata": {
        "id": "PwiFqQ4wPYjz"
      },
      "execution_count": null,
      "outputs": []
    },
    {
      "cell_type": "code",
      "source": [
        "#~~~~~~~~~~~~~~~~~~~~~~~~~\n",
        "# NumPy - Example 18 - Splitting NumPy Arrays\n",
        "#~~~~~~~~~~~~~~~~~~~~~~~~~\n",
        "import numpy as np\n",
        "arr = np.array([1, 2, 3, 4, 5, 6])\n",
        "newarr = np.array_split(arr, 3) #Split the array in 3 parts:\n",
        "print(newarr)\n",
        "\n",
        "newarr = np.array_split(arr, 4) #Split the array in 4 parts:\n",
        "#print(newarr)"
      ],
      "metadata": {
        "id": "xXFxHkGbQSzj",
        "colab": {
          "base_uri": "https://localhost:8080/"
        },
        "outputId": "a42dba17-2f0e-4249-bb52-ade49baf3e3f"
      },
      "execution_count": null,
      "outputs": [
        {
          "output_type": "stream",
          "name": "stdout",
          "text": [
            "[array([1, 2]), array([3, 4]), array([5, 6])]\n"
          ]
        }
      ]
    },
    {
      "cell_type": "code",
      "source": [
        "#~~~~~~~~~~~~~~~~~~~~~~~~~\n",
        "# NumPy - Example 19 - NumPy Searching Arrays\n",
        "#~~~~~~~~~~~~~~~~~~~~~~~~~\n",
        "import numpy as np\n",
        "arr = np.array([1, 2, 3, 4, 5, 4, 4]) #Find the indexes where the value is 4:\n",
        "x = np.where(arr == 4) #Find the indexes where the value is 4:\n",
        "#print(x)\n",
        "\n",
        "arr = np.array([1, 2, 3, 4, 5, 6, 7, 8]) #Find the indexes where the values are even:\n",
        "x = np.where(arr%2 == 0) #Find the indexes where the values are even:\n",
        "#print(x)\n",
        "\n",
        "arr = np.array([1, 2, 3, 4, 5, 6, 7, 8]) #Find the indexes where the values are odd:\n",
        "x = np.where(arr%2 == 1) #Find the indexes where the values are odd:\n",
        "print(x)"
      ],
      "metadata": {
        "id": "h9yhn6lsQ46q"
      },
      "execution_count": null,
      "outputs": []
    },
    {
      "cell_type": "code",
      "source": [
        "#~~~~~~~~~~~~~~~~~~~~~~~~~\n",
        "# NumPy - Example 20 - Sorting Arrays\n",
        "#~~~~~~~~~~~~~~~~~~~~~~~~~\n",
        "import numpy as np\n",
        "arr = np.array([3, 2, 0, 1])\n",
        "print(np.sort(arr)) # Sort the array:\n",
        "\n",
        "arr = np.array(['banana', 'cherry', 'apple']) #Sort the array alphabetically:\n",
        "print(np.sort(arr))\n",
        "\n",
        "arr = np.array([True, False, True])\n",
        "print(np.sort(arr)) #Sort a boolean array:\n",
        "\n",
        "arr = np.array([[3, 2, 4], [5, 0, 1]])\n",
        "print(np.sort(arr)) #Sort a 2-D array:\n",
        "\n"
      ],
      "metadata": {
        "id": "Ih3vXFT5Rtxc",
        "colab": {
          "base_uri": "https://localhost:8080/"
        },
        "outputId": "8606fbaa-6c08-4bf4-db9a-cd1d9d408f37"
      },
      "execution_count": null,
      "outputs": [
        {
          "output_type": "stream",
          "name": "stdout",
          "text": [
            "[0 1 2 3]\n",
            "['apple' 'banana' 'cherry']\n",
            "[False  True  True]\n",
            "[[2 3 4]\n",
            " [0 1 5]]\n"
          ]
        }
      ]
    },
    {
      "cell_type": "code",
      "source": [
        "#~~~~~~~~~~~~~~~~~~~~~~~~~\n",
        "# NumPy - Example 21 - NumPy Filter Array\n",
        "#    Getting some elements out of an existing array and creating a new array out of them is called filtering.\n",
        "#~~~~~~~~~~~~~~~~~~~~~~~~~\n",
        "import numpy as np\n",
        "arr = np.array([41, 42, 43, 44])\n",
        "y = np.array([False, False, True, False])\n",
        "#x = [True, False, True, False] #Create an array from the elements on index 0 and 2:\n",
        "    # If the value at an index is True that element is contained in the filtered array,\n",
        "    # if the value at that index is False that element is excluded from the filtered array.\n",
        "#print(arr)\n",
        "#print(y)\n",
        "newarr = arr[y] # Filtered Values\n",
        "print(newarr)\n",
        "\n",
        "arr = np.array([41, 42, 43, 44])\n",
        "# Create an empty list\n",
        "filter_arr = []\n",
        "# go through each element in arr\n",
        "for element in arr:\n",
        "  # if the element is higher than 42, set the value to True, otherwise False:\n",
        "  if element > 42:\n",
        "    filter_arr.append(True)\n",
        "  else:\n",
        "    filter_arr.append(False)\n",
        "newarr = arr[filter_arr]\n",
        "#print(filter_arr)\n",
        "#print(newarr)"
      ],
      "metadata": {
        "id": "9s-Qh7flSNba",
        "colab": {
          "base_uri": "https://localhost:8080/"
        },
        "outputId": "04e94e6e-1a3a-4350-d54b-7c99288defdf"
      },
      "execution_count": null,
      "outputs": [
        {
          "output_type": "stream",
          "name": "stdout",
          "text": [
            "[43]\n"
          ]
        }
      ]
    },
    {
      "cell_type": "code",
      "source": [
        "#~~~~~~~~~~~~~~~~~~~~~~~~~\n",
        "# NumPy - Example 22 - NumPy - Broadcasting\n",
        "#    The term broadcasting refers to the ability of NumPy to treat arrays of different shapes during arithmetic operations.\n",
        "#     Assignment : How the operations on arrays of non-similar shapes is still possible in NumPy\n",
        "#~~~~~~~~~~~~~~~~~~~~~~~~~\n",
        "\n",
        "import numpy as np\n",
        "a = np.array([1,2,3,4])\n",
        "b = np.array([10,20,30,40])\n",
        "c = a * b\n",
        "print(c)\n",
        "\n",
        "#a = np.array([[0.0,0.0,0.0],[10.0,10.0,10.0],[20.0,20.0,20.0],[30.0,30.0]]) ## Practice Exercise/Homework\n",
        "#b = np.array([1.0,2.0,3.0]) ## Practice Exercise/Homework\n",
        "\n",
        "#print('First array:')\n",
        "#print(a)\n",
        "#print ('\\n')\n",
        "\n",
        "#print ('Second array:')\n",
        "#print (b )\n",
        "#print('\\n')\n",
        "\n",
        "print ('First Array + Second Array' )\n",
        "print (a + b)\n",
        "print (a * b)\n",
        "print (a - b)"
      ],
      "metadata": {
        "id": "zvXGRHmJVFaX",
        "colab": {
          "base_uri": "https://localhost:8080/"
        },
        "outputId": "fa5d2a7f-25a2-4374-b74c-7147b7c90c46"
      },
      "execution_count": null,
      "outputs": [
        {
          "output_type": "stream",
          "name": "stdout",
          "text": [
            "[ 10  40  90 160]\n",
            "First Array + Second Array\n",
            "[11 22 33 44]\n"
          ]
        }
      ]
    }
  ]
}