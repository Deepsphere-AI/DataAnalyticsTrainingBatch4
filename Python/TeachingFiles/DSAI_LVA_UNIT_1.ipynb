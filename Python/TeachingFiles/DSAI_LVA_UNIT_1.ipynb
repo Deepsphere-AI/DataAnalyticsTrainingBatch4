{
  "nbformat": 4,
  "nbformat_minor": 0,
  "metadata": {
    "colab": {
      "provenance": [],
      "include_colab_link": true
    },
    "kernelspec": {
      "name": "python3",
      "display_name": "Python 3"
    },
    "language_info": {
      "name": "python"
    }
  },
  "cells": [
    {
      "cell_type": "markdown",
      "metadata": {
        "id": "view-in-github",
        "colab_type": "text"
      },
      "source": [
        "<a href=\"https://colab.research.google.com/github/Deepsphere-AI/DataAnalyticsTrainingBatch4/blob/main/Python/TeachingFiles/DSAI_LVA_UNIT_1.ipynb\" target=\"_parent\"><img src=\"https://colab.research.google.com/assets/colab-badge.svg\" alt=\"Open In Colab\"/></a>"
      ]
    },
    {
      "cell_type": "code",
      "execution_count": null,
      "metadata": {
        "id": "HrJesY8UpSRW"
      },
      "outputs": [],
      "source": [
        "# ~~~~~~~~~~~~~~~~~~~~~~~~~~~~~~~~~~~~~~~~~~~~~\n",
        "#\n",
        "# Unit #1\n",
        "# ~~~~~~~~~~~~~~~~~~~~~~~~~~~~~~~~~~~~~~~~~~~~~\n",
        "# Python Data Type\n",
        "# Python program to illustrate memoryview() and bytearray\n",
        "# ~~~~~~~~~~~~~~~~~~~~~~~~~~~~~~~~~~~~~~~~~~~~~\n",
        "vAR_my_byte_array = bytearray('JOTHI', 'utf-7') # UTF-7 (7-bit Unicode Transformation Format)\n",
        "## ASCII: Represents the American Standard Code for Information Interchange (ASCII)\n",
        "print(vAR_my_byte_array)\n",
        "\n",
        "# Create memoryview object\n",
        "vAR_mv = memoryview(vAR_my_byte_array)\n",
        "\n",
        "print(type(vAR_mv))   # displays the type of variable mv\n",
        "print(vAR_mv)  # displays memory location of the created memoryview object\n",
        "\n",
        "# access memory view's index\n",
        "print(vAR_mv[0]) # ASCII value\n",
        "print(vAR_mv[2]) # ASCII value\n",
        "\n",
        "# create byte from memory view\n",
        "print(bytes(vAR_mv[0:2]))\n",
        "\n",
        "# create list from memory view\n",
        "print(list(vAR_mv[0:2])) # ASCII value"
      ]
    },
    {
      "cell_type": "code",
      "source": [
        "# ~~~~~~~~~~~~~~~~~~~~~~~~~~~~~~~~~~~~~~~~~~~~~\n",
        "# Python Data Type\n",
        "# None\n",
        "# ~~~~~~~~~~~~~~~~~~~~~~~~~~~~~~~~~~~~~~~~~~~~~\n",
        "vAR_x = None\n",
        "print(vAR_x)\n",
        "print(type(vAR_x))\n",
        "vAR_x = 11\n",
        "print(vAR_x)\n",
        "print(type(vAR_x))"
      ],
      "metadata": {
        "id": "eQAZO0YIs-N4"
      },
      "execution_count": null,
      "outputs": []
    },
    {
      "cell_type": "code",
      "source": [
        "# ~~~~~~~~~~~~~~~~~~~~~~~~~~~~~~~~~~~~~~~~~~~~~\n",
        "# Python Data Type\n",
        "# Boolean Data Type\n",
        "# ~~~~~~~~~~~~~~~~~~~~~~~~~~~~~~~~~~~~~~~~~~~~~\n",
        "vAR_a = True\n",
        "print(type(vAR_a))\n",
        "vAR_b = False\n",
        "print(type(vAR_b))"
      ],
      "metadata": {
        "id": "Wun4Besyt_hM"
      },
      "execution_count": null,
      "outputs": []
    },
    {
      "cell_type": "code",
      "source": [
        "# ~~~~~~~~~~~~~~~~~~~~~~~~~~~~~~~~~~~~~~~~~~~~~\n",
        "# Python Data Type\n",
        "# Boolean Data Type\n",
        "# ~~~~~~~~~~~~~~~~~~~~~~~~~~~~~~~~~~~~~~~~~~~~~\n",
        "vAR_a = True\n",
        "vAR_b = False\n",
        "vAR_c = bool(0)\n",
        "vAR_d = bool(1)\n",
        "print(vAR_a, vAR_b, vAR_c, vAR_d)\n",
        "vAR_c = bool(2)\n",
        "vAR_d = bool(-1)\n",
        "print(vAR_c, vAR_d) # What is the output"
      ],
      "metadata": {
        "id": "20ILLSrxu1HQ",
        "colab": {
          "base_uri": "https://localhost:8080/"
        },
        "outputId": "f03e0be1-58f5-49a0-8f6d-d8a9069f31ce"
      },
      "execution_count": null,
      "outputs": [
        {
          "output_type": "stream",
          "name": "stdout",
          "text": [
            "True False False True\n",
            "True True\n"
          ]
        }
      ]
    },
    {
      "cell_type": "code",
      "source": [
        "# ~~~~~~~~~~~~~~~~~~~~~~~~~~~~~~~~~~~~~~~~~~~~~\n",
        "# Python Data Type\n",
        "# Range\n",
        "# ~~~~~~~~~~~~~~~~~~~~~~~~~~~~~~~~~~~~~~~~~~~~~\n",
        "vAR_a = range(3, 20, 2)\n",
        "for vAR_i in vAR_a:\n",
        "  print(vAR_i)"
      ],
      "metadata": {
        "id": "Y-0f6LU6v2YC"
      },
      "execution_count": null,
      "outputs": []
    },
    {
      "cell_type": "code",
      "source": [
        "# ~~~~~~~~~~~~~~~~~~~~~~~~~~~~~~~~~~~~~~~~~~~~~\n",
        "# Python Data Type\n",
        "# String\n",
        "# ~~~~~~~~~~~~~~~~~~~~~~~~~~~~~~~~~~~~~~~~~~~~~\n",
        "vAR_str = \"JOTHI\"\n",
        "print(\"The entire string  >> \" + vAR_str)  # The entire string\n",
        "print(\"First position of the string  >> \" + vAR_str[0]) # First position of the string\n",
        "print(\"2 character from the beginning   >> \" + vAR_str[:2]) # 2 character from the beginning\n",
        "print(\"From the 1st postion to end of the string  >> \" + vAR_str[1:]) # From the 1st postion to end of the string\n",
        "print(\"From 0th postion to 4 character   >> \" + vAR_str[0:4]) # From 0th postion to 4 character\n"
      ],
      "metadata": {
        "id": "QNi9b3wv7r6n"
      },
      "execution_count": null,
      "outputs": []
    },
    {
      "cell_type": "code",
      "source": [
        "# ~~~~~~~~~~~~~~~~~~~~~~~~~~~~~~~\n",
        "# Data Structure -List\n",
        "# ~~~~~~~~~~~~~~~~~~~~~~~~~~~~~~~\n",
        "# () - Tuple\n",
        "# [] - List\n",
        "# {} - Dictionary\n",
        "# {} - Set\n",
        "## ~~~~~~~~~~~~~~~~~~~~~~~~~~~~~~~~~~~~~~~~~~~~~~~~~~~~~~~~~~~~~~~~~~~~~~~~~~~~~~~~~~~~~~~~~~~~~~~~~~~~~~~~~~\n",
        "#  A list is a collection that is ordered and changeable. Allows duplicate members.\n",
        "#  Tuple is an unchangeable collection that has been ordered. Allows duplicate members.\n",
        "#  Set is a collection that is unordered, unchangeable*, and unindexed. There are no duplicate members.\n",
        "#  The dictionary is a collection that is ordered** and changeable. There are no duplicate members.\n",
        "# ~~~~~~~~~~~~~~~~~~~~~~~~~~~~~~~~~~~~~~~~~~~~~~~~~~~~~~~~~~~~~~~~~~~~~~~~~~~~~~~~~~~~~~~~~~~~~~~~~~~~~~~~~~\n",
        "\n",
        "vAR_list = [ 'abcd', 786 , 2.23, 'Jothi', 70.2 ]\n",
        "vAR_tinylist = [123, 'Jothi']\n",
        "\n",
        "print (vAR_list)                # Prints complete list\n",
        "print (vAR_list[0])             # Prints first element of the list\n",
        "print (vAR_list[1:3])           # Prints elements starting from 2nd till 3rd\n",
        "print (vAR_list[2:])            # Prints elements starting from 3rd element\n",
        "print (vAR_tinylist * 2)        # Prints list two times\n",
        "print (vAR_list + vAR_tinylist) # Prints concatenated lists"
      ],
      "metadata": {
        "id": "2zOsUk4c-V74"
      },
      "execution_count": null,
      "outputs": []
    },
    {
      "cell_type": "code",
      "source": [
        "# ~~~~~~~~~~~~~~~~~~~~~~~~~~~~~~~\n",
        "# Data Structure -List with Boolean\n",
        "# ~~~~~~~~~~~~~~~~~~~~~~~~~~~~~~~\n",
        "vAR_list = [True, False, False]\n",
        "print(vAR_list)\n",
        "print(type(vAR_list)) # Type of"
      ],
      "metadata": {
        "id": "od7RVxzDAh21"
      },
      "execution_count": null,
      "outputs": []
    },
    {
      "cell_type": "code",
      "source": [
        "# ~~~~~~~~~~~~~~~~~~~~~~~~~~~~~~~\n",
        "# Data Structure -List of List\n",
        "# ~~~~~~~~~~~~~~~~~~~~~~~~~~~~~~~\n",
        "vARList=[[1, 2, 3, 4, 5], [12, 13, 23], [10, 20, 30], [11, 22, 33], [12, 24, 36]]\n",
        "print(vARList)"
      ],
      "metadata": {
        "id": "k_ut1WB1Hc2p"
      },
      "execution_count": null,
      "outputs": []
    },
    {
      "cell_type": "code",
      "source": [
        "# ~~~~~~~~~~~~~~~~~~~~~~~~~~~~~~~\n",
        "# Data Structure -List of List\n",
        "# ~~~~~~~~~~~~~~~~~~~~~~~~~~~~~~~\n",
        "# min()\n",
        "# max()\n",
        "# sort()\n",
        "# reverse()\n",
        "# remove()\n",
        "# append()\n",
        "# copy()\n",
        "# clear()\n",
        "#~~~~~~~~~~~~~~~~~~~~~~~~~~~~~~~\n",
        "\n",
        "list=[2,5,6,7]\n",
        "list.append(8) ### APPEND ###\n",
        "#print(list)\n",
        "\n",
        "lis = [1, 2, 3]\n",
        "lis.clear() ### CLEAR ###\n",
        "#print(lis)\n",
        "\n",
        "fruits = [\"Apple\", \"Apple\", \"Banana\", \"Cherry\" , \"Papaya\"]\n",
        "#print(fruits.count(\"Apple\")) ### COUNT ###\n",
        "\n",
        "numbers = [23,25,65,21,98] ### MIN ###\n",
        "#print(min(numbers))\n",
        "\n",
        "alphabets = ['a','e','d','c','b']\n",
        "random_numbers = [2,5,6,1,8,3]\n",
        "alphabets.sort()  ### SORT ###\n",
        "random_numbers.sort() ### SORT ###\n",
        "print(alphabets)\n",
        "print(random_numbers)"
      ],
      "metadata": {
        "id": "pXxvp8FuMtLT"
      },
      "execution_count": null,
      "outputs": []
    },
    {
      "cell_type": "markdown",
      "source": [],
      "metadata": {
        "id": "o3omuOhKIG3K"
      }
    },
    {
      "cell_type": "code",
      "source": [
        "# ~~~~~~~~~~~~~~~~~~~~~~~~~~~~~~~\n",
        "# Data Structure - Tuple\n",
        "# ~~~~~~~~~~~~~~~~~~~~~~~~~~~~~~~\n",
        "\n",
        "vAR_tuple = ( 'abcd', 786 , 2.23, 'Jothi', 70.2,\"apple\", \"banana\", \"cherry\"  )\n",
        "vAR_tinytuple = (123, 'Jothi')\n",
        "\n",
        "print (vAR_tuple)                 # Prints the complete tuple\n",
        "print (vAR_tuple[0])              # Prints first element of the tuple\n",
        "print (vAR_tuple[1:3])            # Prints elements of the tuple starting from 2nd till 3rd\n",
        "print (vAR_tuple[2:])             # Prints elements of the tuple starting from 3rd element\n",
        "print (vAR_tinytuple * 2)         # Prints the contents of the tuple twice\n",
        "print (vAR_tuple + vAR_tinytuple) # Prints concatenated tuples"
      ],
      "metadata": {
        "id": "tb520mf1_3ee"
      },
      "execution_count": null,
      "outputs": []
    },
    {
      "cell_type": "code",
      "source": [
        "# ~~~~~~~~~~~~~~~~~~~~~~~~~~~~~~~\n",
        "# Data Structure - Tuple -  Trying to chage the member\n",
        "# ~~~~~~~~~~~~~~~~~~~~~~~~~~~~~~~\n",
        "\n",
        "vAR_tuple = ( 'abcd', 786 , 2.23, 'john', 70.2  )\n",
        "#vAR_tuple[2] = 1000    # Why this is an Invalid syntax with tuple ??\n"
      ],
      "metadata": {
        "id": "QQLF4iBOAF6R"
      },
      "execution_count": null,
      "outputs": []
    },
    {
      "cell_type": "code",
      "source": [
        "# ~~~~~~~~~~~~~~~~~~~~~~~~~~~~~~~\n",
        "# Data Structure - Tuple\n",
        "# ~~~~~~~~~~~~~~~~~~~~~~~~~~~~~~~\n",
        "vAR_thistuple = (\"apple\", \"banana\", \"cherry\") # Tuple 1\n",
        "vAR_y = (\"orange\",) # Tuple 2\n",
        "\n",
        "vAR_thistuple += vAR_y # Adding 2 Tuple\n",
        "\n",
        "print(vAR_thistuple)"
      ],
      "metadata": {
        "id": "fACUSLVAQkjt"
      },
      "execution_count": null,
      "outputs": []
    },
    {
      "cell_type": "code",
      "source": [
        "# ~~~~~~~~~~~~~~~~~~~~~~~~~~~~~~~\n",
        "# Data Structure - Tuple - Unpacking a tuple:\n",
        "# ~~~~~~~~~~~~~~~~~~~~~~~~~~~~~~~\n",
        "\n",
        "fruits = (\"apple\", \"banana\", \"cherry\") # Packing a tuple:\n",
        "\n",
        "(green, yellow, red) = fruits # Unpacking a tuple:\n",
        "\n",
        "print(green)\n",
        "print(yellow)\n",
        "print(red)"
      ],
      "metadata": {
        "id": "o1I8IZAHR_9X"
      },
      "execution_count": null,
      "outputs": []
    },
    {
      "cell_type": "code",
      "source": [
        "# ~~~~~~~~~~~~~~~~~~~~~~~~~~~~~~~\n",
        "# Data Structure - Tuple - Unpacking a tuple: Using Asterisk*\n",
        "# ~~~~~~~~~~~~~~~~~~~~~~~~~~~~~~~\n",
        "fruits = (\"apple\", \"banana\", \"cherry\", \"strawberry\", \"raspberry\")\n",
        "(green, yellow, *red) = fruits # Using Asterisk*\n",
        "print(green)\n",
        "print(yellow)\n",
        "print(red) # Using Asterisk*"
      ],
      "metadata": {
        "id": "_wdmMxZVStO4"
      },
      "execution_count": null,
      "outputs": []
    },
    {
      "cell_type": "code",
      "source": [
        "# ~~~~~~~~~~~~~~~~~~~~~~~~~~~~~~~\n",
        "# Data Structure - Set - Unordered, Unchangeable\n",
        "# ~~~~~~~~~~~~~~~~~~~~~~~~~~~~~~~\n",
        "\n",
        "set1 = {\"apple\", \"banana\", \"cherry\"} # String\n",
        "set2 = {1, 5, 7, 9, 3} # Int\n",
        "set3 = {True, False, False} # Boolean\n",
        "#print(set3[0]) # See the Error\n",
        "print(type(set3))\n",
        "\n",
        "thisset = {\"apple\", \"banana\", \"cherry\", \"apple\"} #Duplicates Not Allowed\n",
        "#print(thisset)\n",
        "thisset = {\"apple\", \"banana\", \"cherry\", True, 1, 2} # Boolean Value\n",
        "#print(thisset)\n",
        "thisset = {\"apple\", \"banana\", \"cherry\", False, True, 0} # False and 0 is considered the same value:\n",
        "print(thisset)\n",
        "thisset = {\"apple\", \"banana\", \"cherry\", True, 1, 2} #True and 1 is considered the same value:\n",
        "#print(thisset)"
      ],
      "metadata": {
        "id": "cPDeKZv5Xl7W"
      },
      "execution_count": null,
      "outputs": []
    },
    {
      "cell_type": "code",
      "source": [
        "# ~~~~~~~~~~~~~~~~~~~~~~~~~~~~~~~\n",
        "# Data Structure - Dictionaries - Functions and Accessing Items\n",
        "# ~~~~~~~~~~~~~~~~~~~~~~~~~~~~~~~\n",
        "thisdict = {\"brand\": \"Ford\", \"model\": \"Mustang\",\"year\": 1964}\n",
        "#print(thisdict) # print a dictionary:\n",
        "\n",
        "#print(thisdict[\"brand\"]) # Print the \"brand\" value of the dictionary:\n",
        "\n",
        "thisdict = { \"brand\": \"Ford\", \"model\": \"Mustang\", \"year\": 1964, \"year\": 2020 } #Duplicates Not Allowed\n",
        "#print(thisdict) # Dictionaries cannot have two items with the same key:\n",
        "\n",
        "thisdict = { \"brand\": \"Ford\",  \"electric\": False,  \"year\": 1964,  \"color\": [\"red\", \"white\", \"blue\"] }\n",
        "#print(thisdict[\"colors\"])\n",
        "\n",
        "x = thisdict.get(\"model\")\n",
        "print (x)\n",
        "x = thisdict.keys()\n",
        "print (x)\n",
        "x = thisdict.values()\n",
        "print (x)\n",
        "thisdict[\"color\"] = \"JOTHI\" # Make a change in the original dictionary,\n",
        "print(thisdict)\n",
        "x = thisdict.items()\n",
        "print (x)"
      ],
      "metadata": {
        "id": "nG0Y53ptaCSH"
      },
      "execution_count": null,
      "outputs": []
    },
    {
      "cell_type": "code",
      "source": [
        "# ~~~~~~~~~~~~~~~~~~~~~~~~~~~~~~~\n",
        "# Data Structure - Dictionaries Check if Key Exists\n",
        "# ~~~~~~~~~~~~~~~~~~~~~~~~~~~~~~~\n",
        "thisdict = { \"brand\": \"Ford\", \"model\": \"Mustang\", \"year\": 1964 }\n",
        "if \"model-1\" in thisdict:\n",
        "  print(\"Yes, 'model' is one of the keys in the thisdict dictionary\")\n",
        "else:\n",
        "  print(\"Not Fund\")"
      ],
      "metadata": {
        "id": "80ploJRVfnWP"
      },
      "execution_count": null,
      "outputs": []
    },
    {
      "cell_type": "code",
      "source": [
        "# Defining a list of dictionaries in Python\n",
        "# ~~~~~~~~~~~~~~~~~~~~~~~~~~~~~~~\n",
        "# Data Structure - Dictionaries Check if Key Exists\n",
        "# ~~~~~~~~~~~~~~~~~~~~~~~~~~~~~~~\n",
        "ls_dict = [{'py': 'Python', 'mat': 'MATLAB', 'cs': 'Csharp'}, {'A': 65, 'B': 66, 'C': 67}, {'a': 97, 'b': 98, 'c': 99}]\n",
        "\n",
        "# Printing the results\n",
        "#print(ls_dict)\n",
        "\n",
        "# Validating the type of 'ls_dict' and its element\n",
        "print(type(ls_dict)) ## List\n",
        "print(type(ls_dict[0])) ## Dictionaries"
      ],
      "metadata": {
        "id": "nbtKVqtVlcIt"
      },
      "execution_count": null,
      "outputs": []
    },
    {
      "cell_type": "code",
      "source": [
        "# ~~~~~~~~~~~~~~~~~~~~~~~~~~~~~~~\n",
        "# Data Structure - Sets\n",
        "# ~~~~~~~~~~~~~~~~~~~~~~~~~~~~~~~\n",
        "thisset = {\"apple\", \"banana\", \"cherry\"}\n",
        "#print(thisset)\n",
        "\n",
        "thisset = {\"apple\", \"banana\", \"cherry\", \"apple\"} # Duplicates Not Allowed ## Duplicate values will be ignored:\n",
        "#print(thisset)\n",
        "\n",
        "thisset = {\"apple\", \"banana\", \"cherry\"}\n",
        "for x in thisset: ## Loop through the set, and print the values:\n",
        "  #print(x)\n",
        "  pass\n",
        "\n",
        "thisset = {\"apple\", \"banana\", \"cherry\"}\n",
        "print(\"banana2\" in thisset) #Check if \"banana\" is present in the set:"
      ],
      "metadata": {
        "id": "caBza--th0B-",
        "colab": {
          "base_uri": "https://localhost:8080/"
        },
        "outputId": "dc54c997-01b6-4e16-ffc4-7c884c2e5325"
      },
      "execution_count": null,
      "outputs": [
        {
          "output_type": "stream",
          "name": "stdout",
          "text": [
            "False\n"
          ]
        }
      ]
    },
    {
      "cell_type": "code",
      "source": [
        "# ~~~~~~~~~~~~~~~~~~~~~~~~~~~~~~~\n",
        "# Data Structure - Sets Functions\n",
        "# ~~~~~~~~~~~~~~~~~~~~~~~~~~~~~~~\n",
        "thisset = {\"apple\", \"banana\", \"cherry\"}\n",
        "thisset.add(\"orange\") ## ADD\n",
        "#print(thisset)\n",
        "\n",
        "set1 = {\"apple\", \"banana\", \"cherry\"}\n",
        "set2 = {\"pineapple\", \"mango\", \"papaya\"}\n",
        "set1.update(set2) ## UPDATE\n",
        "print(set1)"
      ],
      "metadata": {
        "id": "W7zgYk0JjX_R",
        "colab": {
          "base_uri": "https://localhost:8080/"
        },
        "outputId": "c293d650-6f4c-420b-a967-40860a39a3d8"
      },
      "execution_count": null,
      "outputs": [
        {
          "output_type": "stream",
          "name": "stdout",
          "text": [
            "{'cherry', 'banana', 'papaya', 'mango', 'pineapple', 'apple'}\n"
          ]
        }
      ]
    },
    {
      "cell_type": "code",
      "source": [
        "# ~~~~~~~~~~~~~~~~~~~~~~~~~~~~~~~\n",
        "# Data Structure - Add List to a Set\n",
        "# ~~~~~~~~~~~~~~~~~~~~~~~~~~~~~~~\n",
        "\n",
        "thisset = {\"apple\", \"banana\", \"cherry\"} ## SET\n",
        "mylist = [\"kiwi\", \"orange\"] ## LIST\n",
        "thisset.update(mylist) ## ADD LIST TO a SET\n",
        "print(thisset)"
      ],
      "metadata": {
        "id": "HXUETy8_j9nb",
        "colab": {
          "base_uri": "https://localhost:8080/"
        },
        "outputId": "be690aaa-4748-4b40-853f-588a9fe37027"
      },
      "execution_count": null,
      "outputs": [
        {
          "output_type": "stream",
          "name": "stdout",
          "text": [
            "{'apple', 'cherry', 'banana', 'kiwi', 'orange'}\n"
          ]
        }
      ]
    },
    {
      "cell_type": "code",
      "source": [
        "## ~~~~~~~~~~~~~~~~~~~~~~~~~~~~~~~~~~~~~~~~~~~~~~~~~\n",
        "## Convert the list to a set and get the union of both sets.\n",
        "## Add List to a Set\n",
        "## Delete an existing key: value pair\n",
        "## Add a new key: value pair\n",
        "## Update an existing key: value\n",
        "## ~~~~~~~~~~~~~~~~~~~~~~~~~~~~~~~~~~~~~~~~~~~~~~~~~"
      ],
      "metadata": {
        "id": "59Y13gfnm9TT"
      },
      "execution_count": null,
      "outputs": []
    },
    {
      "cell_type": "code",
      "source": [
        "# ~~~~~~~~~~~~~~~~~~~~~~~~~~~~~~~\n",
        "# Conditions and If statements and Indentation\n",
        "# ~~~~~~~~~~~~~~~~~~~~~~~~~~~~~~~\n",
        "## Equals: a == b\n",
        "## Not Equals: a != b\n",
        "## Less than: a < b\n",
        "## Less than or equal to: a <= b\n",
        "## Greater than: a > b\n",
        "## Greater than or equal to: a >= b\n",
        "# ~~~~~~~~~~~~~~~~~~~~~~~~~~~~~~~\n",
        "## Example 1\n",
        "# ~~~~~~~~~~~~~~~~~~~~~~~~~~~~~~~\n",
        "vAR_a = 33\n",
        "vAR_b = 200\n",
        "if vAR_b > vAR_a:\n",
        "  print(\"vAR_b is greater than vAR_a\")\n",
        "# ~~~~~~~~~~~~~~~~~~~~~~~~~~~~~~~\n",
        "## Example 2\n",
        "# ~~~~~~~~~~~~~~~~~~~~~~~~~~~~~~~\n",
        "vAR_a = 33\n",
        "vAR_b = 200\n",
        "if vAR_b > vAR_a:\n",
        "  print(\"vAR_b is greater than vAR_a\") # you will get an error # **********************************\n"
      ],
      "metadata": {
        "id": "reMpGqd0sXNG",
        "colab": {
          "base_uri": "https://localhost:8080/"
        },
        "outputId": "17fe45cc-8370-4f2f-fb58-3290c22a9cd4"
      },
      "execution_count": null,
      "outputs": [
        {
          "output_type": "stream",
          "name": "stdout",
          "text": [
            "vAR_b is greater than vAR_a\n",
            "vAR_b is greater than vAR_a\n"
          ]
        }
      ]
    },
    {
      "cell_type": "code",
      "source": [
        "# ~~~~~~~~~~~~~~~~~~~~~~~~~~~~~~~\n",
        "#  Conditions and If statements and Indentation\n",
        "# ELIF\n",
        "# ~~~~~~~~~~~~~~~~~~~~~~~~~~~~~~~\n",
        "\n",
        "vAR_a = 33\n",
        "vAR_b = 33\n",
        "if vAR_b > vAR_a:\n",
        "  print(\"vAR_b is greater than vAR_a\")\n",
        "elif vAR_a == vAR_b:\n",
        "  print(\"vAR_a and b are equal\")"
      ],
      "metadata": {
        "id": "8sVFfqY-bf-M",
        "colab": {
          "base_uri": "https://localhost:8080/"
        },
        "outputId": "8f070e2a-f211-45d1-9eda-480dbafb555d"
      },
      "execution_count": null,
      "outputs": [
        {
          "output_type": "stream",
          "name": "stdout",
          "text": [
            "vAR_a and b are equal\n"
          ]
        }
      ]
    },
    {
      "cell_type": "code",
      "source": [
        "# ~~~~~~~~~~~~~~~~~~~~~~~~~~~~~~~\n",
        "#  Conditions and If statements and Indentation\n",
        "# ELSE\n",
        "# ~~~~~~~~~~~~~~~~~~~~~~~~~~~~~~~\n",
        "vAR_a = 200\n",
        "vAR_b = 33\n",
        "if vAR_b > vAR_a:\n",
        "  print(\"vAR_b is greater than vAR_a\")\n",
        "elif vAR_a == vAR_b:\n",
        "  print(\"vAR_a and vAR_b are equal\")\n",
        "else:\n",
        "  print(\"vAR_a is greater than vAR_b\")\n"
      ],
      "metadata": {
        "id": "37QJ8XVIbynT",
        "colab": {
          "base_uri": "https://localhost:8080/"
        },
        "outputId": "65ffc681-5edd-4a1a-885f-fa470b518d37"
      },
      "execution_count": null,
      "outputs": [
        {
          "output_type": "stream",
          "name": "stdout",
          "text": [
            "vAR_a is greater than vAR_b\n"
          ]
        }
      ]
    },
    {
      "cell_type": "code",
      "source": [
        "# ~~~~~~~~~~~~~~~~~~~~~~~~~~~~~~~\n",
        "## Conditions and If statements\n",
        "## Example - Short Hand If\n",
        "# ~~~~~~~~~~~~~~~~~~~~~~~~~~~~~~~\n",
        "vAR_a = 1112\n",
        "vAR_b = 330\n",
        "print(\"vAR_A\") if vAR_a >vAR_b\n"
      ],
      "metadata": {
        "id": "lEGR7t4QcHr9",
        "colab": {
          "base_uri": "https://localhost:8080/"
        },
        "outputId": "5cfe4031-f785-41ad-cef0-1dac49f9a43f"
      },
      "execution_count": null,
      "outputs": [
        {
          "output_type": "stream",
          "name": "stdout",
          "text": [
            "vAR_A\n"
          ]
        }
      ]
    },
    {
      "cell_type": "code",
      "source": [
        "# ~~~~~~~~~~~~~~~~~~~~~~~~~~~~~~~\n",
        "## Conditions and If statements\n",
        "## Example - AND, OR, NOT in IF\n",
        "# ~~~~~~~~~~~~~~~~~~~~~~~~~~~~~~~\n",
        "vAR_a = 200\n",
        "vAR_b = 33\n",
        "vAR_c = 500\n",
        "#if vAR_a > vAR_b and vAR_c > vAR_a: ## AND ~~~~~~~~~~~~~~\n",
        "#  print(\"Both conditions are True\")\n",
        "\n",
        "vAR_a = 33\n",
        "vAR_b = 200\n",
        "#if vAR_a > vAR_b or vAR_a < vAR_b: ## OR  ~~~~~~~~~~~~~~\n",
        "#  print(\"vAR_a is NOT greater than vAR_b - This is from the IF\")\n",
        "#else:\n",
        "#  print(\"vAR_a is NOT greater than vAR_b - This is from the Else\")\n",
        "\n",
        "vAR_a = 333\n",
        "vAR_b = 200\n",
        "if not vAR_a > vAR_b: ## NOT ~~~~~~~~~~~~~~\n",
        "  print(\"a is NOT greater than b\")"
      ],
      "metadata": {
        "id": "bGGqLLAXctC_"
      },
      "execution_count": null,
      "outputs": []
    },
    {
      "cell_type": "code",
      "source": [
        "# ~~~~~~~~~~~~~~~~~~~~~~~~~~~~~~~\n",
        "## Conditions and If statements\n",
        "## Example IF pass Statement\n",
        "# ~~~~~~~~~~~~~~~~~~~~~~~~~~~~~~~\n",
        "vAR_a = 33\n",
        "vAR_b = 200\n",
        "\n",
        "if vAR_b > vAR_a:\n",
        "  pass\n",
        "## if statements cannot be empty, but if you for some reason have an if statement with no content, put in the pass statement to avoid getting an error."
      ],
      "metadata": {
        "id": "lx0Xe6rneg8e"
      },
      "execution_count": null,
      "outputs": []
    },
    {
      "cell_type": "code",
      "source": [
        "# ~~~~~~~~~~~~~~~~~~~~~~~~~~~~~~~\n",
        "## Conditions and If statements\n",
        "## Nested If\n",
        "# ~~~~~~~~~~~~~~~~~~~~~~~~~~~~~~~\n",
        "\n",
        "vAR_x = 41\n",
        "\n",
        "if vAR_x > 10:\n",
        "  print(\"Above ten, - This is from the FIRST IF\")\n",
        "  if vAR_x > 20:\n",
        "    print(\"and also above 20!- This is from the II IF\")\n",
        "  else:\n",
        "    print(\"but not above 20.\")"
      ],
      "metadata": {
        "id": "2ywLWgehdRd5",
        "colab": {
          "base_uri": "https://localhost:8080/"
        },
        "outputId": "31152740-f14b-4bd8-bf17-6ebe1701c27a"
      },
      "execution_count": null,
      "outputs": [
        {
          "output_type": "stream",
          "name": "stdout",
          "text": [
            "Above ten, - This is from the FIRST IF\n",
            "and also above 20!- This is from the II IF\n"
          ]
        }
      ]
    },
    {
      "cell_type": "code",
      "source": [
        "# ~~~~~~~~~~~~~~~~~~~~~~~~~~~~~~~\n",
        "# Loop - WHILE\n",
        "# ~~~~~~~~~~~~~~~~~~~~~~~~~~~~~~~\n",
        "print(\"==>> Example 1 WHILE LOOP <<===\")\n",
        "vAR_i = 1 # Loop Initiation\n",
        "while vAR_i < 6: # Loop Condition\n",
        "  print(vAR_i)\n",
        "  vAR_i += 1 # Loop Increment # vAR_i += ==> 1 +1 =2, 2+1 = 3, 3+1 =4, 4+1 = 5, 5 + 1 =6\n"
      ],
      "metadata": {
        "id": "2ezyIuCcs4db"
      },
      "execution_count": null,
      "outputs": []
    },
    {
      "cell_type": "code",
      "source": [
        "# ~~~~~~~~~~~~~~~~~~~~~~~~~~~~~~\n",
        "## Loop - WHILE\n",
        "##  While, BREAK\n",
        "# ~~~~~~~~~~~~~~~~~~~~~~~~~~~~~~~\n",
        "print(\"==>> Example 2 WHILE LOOP <<===\")\n",
        "vAR_i = 1 # Init Loop\n",
        "while vAR_i < 6: # Loop Condition - Check\n",
        "  print(vAR_i)\n",
        "  if vAR_i == 3:\n",
        "    break # Explicitly Breaking the Loop\n",
        "  vAR_i += 1 # Loop Increment"
      ],
      "metadata": {
        "id": "-5NzdmuMfy8G"
      },
      "execution_count": null,
      "outputs": []
    },
    {
      "cell_type": "code",
      "source": [
        "# ~~~~~~~~~~~~~~~~~~~~~~~~~~~~~~~\n",
        "## Loop - WHILE\n",
        "## While, continue\n",
        "# ~~~~~~~~~~~~~~~~~~~~~~~~~~~~~~~\n",
        "print(\"==>> Example 3 WHILE LOOP <<===\")\n",
        "vAR_i = 0 # Init Loop\n",
        "while vAR_i < 6: # Loop Condition Check\n",
        "  vAR_i += 1 # Loop Increment\n",
        "  if vAR_i == 3:\n",
        "    continue # Conintue the Loop\n",
        "  print(vAR_i)"
      ],
      "metadata": {
        "id": "UJvZU-_kgCO7"
      },
      "execution_count": null,
      "outputs": []
    },
    {
      "cell_type": "code",
      "source": [
        "# ~~~~~~~~~~~~~~~~~~~~~~~~~~~~~~~\n",
        "## Loop - FOR\n",
        "## Example  - LOOP, FOR IN LIST\n",
        "# ~~~~~~~~~~~~~~~~~~~~~~~~~~~~~~~\n",
        "print(\"==>> Example 1 FOR LOOP <<===\")\n",
        "vAR_List_fruits = [\"apple\", \"banana\", \"cherry\"]\n",
        "for vAR_x in vAR_List_fruits:\n",
        "  print(vAR_x)"
      ],
      "metadata": {
        "id": "ZB2muFC5grUm"
      },
      "execution_count": null,
      "outputs": []
    },
    {
      "cell_type": "code",
      "source": [
        "# ~~~~~~~~~~~~~~~~~~~~~~~~~~~~~~~\n",
        "## Loop - FOR\n",
        "## Example  - LOOP, FOR IN STRING\n",
        "# ~~~~~~~~~~~~~~~~~~~~~~~~~~~~~~~~\n",
        "print(\"==>> Example 2 FOR LOOP <<===\")\n",
        "for vAR_x in \"JOTHI\":\n",
        "  print(vAR_x)"
      ],
      "metadata": {
        "id": "r12jrB_Lg3oe"
      },
      "execution_count": null,
      "outputs": []
    },
    {
      "cell_type": "code",
      "source": [
        "# ~~~~~~~~~~~~~~~~~~~~~~~~~~~~~~~\n",
        "## Loop - FOR\n",
        "## FOR - Nested\n",
        "# ~~~~~~~~~~~~~~~~~~~~~~~~~~~~~~~\n",
        "print(\"==>> Example 3 FOR LOOP NESTED <<===\")\n",
        "vAR_adj = [\"red\", \"big\", \"tasty\"]\n",
        "vAR_fruits = [\"apple\", \"banana\", \"cherry\"]\n",
        "\n",
        "for vAR_a in vAR_adj:\n",
        "  for vAR_b in vAR_fruits:\n",
        "    print(vAR_a, vAR_b)\n"
      ],
      "metadata": {
        "id": "sgCPRwN8g_gv",
        "colab": {
          "base_uri": "https://localhost:8080/"
        },
        "outputId": "7bee3f6b-edac-404a-bf7c-a6d3ab1f422b"
      },
      "execution_count": null,
      "outputs": [
        {
          "output_type": "stream",
          "name": "stdout",
          "text": [
            "==>> Example 3 FOR LOOP NESTED <<===\n",
            "red apple\n",
            "red banana\n",
            "red cherry\n",
            "big apple\n",
            "big banana\n",
            "big cherry\n",
            "tasty apple\n",
            "tasty banana\n",
            "tasty cherry\n"
          ]
        }
      ]
    },
    {
      "cell_type": "code",
      "source": [
        "# ~~~~~~~~~~~~~~~~~~~~~~~~~~~~~~~\n",
        "## Loop - FOR\n",
        "## FOR - Range\n",
        "# ~~~~~~~~~~~~~~~~~~~~~~~~~~~~~~~\n",
        "print(\"==>> Example 4 FOR LOOP Range <<===\")\n",
        "for vAR_x in range(1, 31):\n",
        "  print(vAR_x)"
      ],
      "metadata": {
        "id": "fl8rvCAdhMf1"
      },
      "execution_count": null,
      "outputs": []
    },
    {
      "cell_type": "code",
      "source": [
        "# ~~~~~~~~~~~~~~~~~~~~~~~~~~~~~~~\n",
        "## Loop - FOR\n",
        "## FOR - Break\n",
        "# ~~~~~~~~~~~~~~~~~~~~~~~~~~~~~~~\n",
        "print(\"==>> Example 5 FOR LOOP Break <<===\")\n",
        "vAR_fruits = [\"apple\", \"banana\", \"cherry\"]\n",
        "for vAR_x in vAR_fruits:\n",
        "  if vAR_x == \"banana\":\n",
        "    break\n",
        "  print(vAR_x)"
      ],
      "metadata": {
        "id": "SLbu8RHBhSHC"
      },
      "execution_count": null,
      "outputs": []
    },
    {
      "cell_type": "code",
      "source": [
        "# ~~~~~~~~~~~~~~~~~~~~~~~~~~~~~~~\n",
        "## Functions WITHOUT ARG\n",
        "# ~~~~~~~~~~~~~~~~~~~~~~~~~~~~~~~\n",
        "print(\"==>> Example 1 FUNCTION <<===\")\n",
        "def vFN_my_function():\n",
        "  print(\"Hello from a function - Task1\") # Task or action the function takes\n",
        "  print(\"Hello from a function - Task2\") # Task or action the function takes\n",
        "\n",
        "vFN_my_function() # Function Call"
      ],
      "metadata": {
        "id": "a2pnZbR2iTDM",
        "colab": {
          "base_uri": "https://localhost:8080/"
        },
        "outputId": "e21d915a-5c40-4d91-99bf-08e63287c39a"
      },
      "execution_count": null,
      "outputs": [
        {
          "output_type": "stream",
          "name": "stdout",
          "text": [
            "==>> Example 1 FUNCTION <<===\n",
            "Hello from a function - Task1\n",
            "Hello from a function - Task2\n"
          ]
        }
      ]
    },
    {
      "cell_type": "code",
      "source": [
        "# ~~~~~~~~~~~~~~~~~~~~~~~~~~~~~~~\n",
        "##  Functions WITH ARG\n",
        "# ~~~~~~~~~~~~~~~~~~~~~~~~~~~~~~~\n",
        "print(\"==>> Example 2 FUNCTION <<===\")\n",
        "def vFN_my_function(vAR_fname):\n",
        "  print(vAR_fname)\n",
        "\n",
        "vFN_my_function(1000) # Call with String\n",
        "vFN_my_function(100.22) # Call with String\n",
        "vFN_my_function(\"ARG3\") # Call with String"
      ],
      "metadata": {
        "id": "5xRxmBvAifM_"
      },
      "execution_count": null,
      "outputs": []
    },
    {
      "cell_type": "code",
      "source": [
        "# ~~~~~~~~~~~~~~~~~~~~~~~~~~~~~~~\n",
        "## Functions WITH ARG with Default Value\n",
        "# ~~~~~~~~~~~~~~~~~~~~~~~~~~~~~~~\n",
        "print(\"==>> Example 3 FUNCTION <<===\")\n",
        "def vFN_my_function(vAR_country = \"Norway\"):\n",
        "  print(\"I am from \" + vAR_country)\n",
        "\n",
        "vFN_my_function(\"Sweden\") # Fucntion Call with a String\n",
        "vFN_my_function(\"India\") # Fucntion Call with a String\n",
        "vFN_my_function(\"Jothi\") #***************** No Arguments, Default\n",
        "vFN_my_function(\"Brazil\") # Fucntion Call with a String\n"
      ],
      "metadata": {
        "id": "T_HG41Ediqei",
        "colab": {
          "base_uri": "https://localhost:8080/"
        },
        "outputId": "dcca5a66-e49e-4e0d-ee06-dda70200c54b"
      },
      "execution_count": null,
      "outputs": [
        {
          "output_type": "stream",
          "name": "stdout",
          "text": [
            "==>> Example 3 FUNCTION <<===\n",
            "I am from Sweden\n",
            "I am from India\n",
            "I am from Jothi\n",
            "I am from Brazil\n"
          ]
        }
      ]
    },
    {
      "cell_type": "code",
      "source": [
        "# ~~~~~~~~~~~~~~~~~~~~~~~~~~~~~~~\n",
        "## Functions WITH UNKNOWN ARG - Arbitrary Arguments, *args\n",
        "# ~~~~~~~~~~~~~~~~~~~~~~~~~~~~~~~\n",
        "print(\"==>> Example 4 FUNCTION <<===\")\n",
        "def vFN_my_function(*vAR_kids):\n",
        "  print(\"The youngest child is \" + vAR_kids[1]) # 2 is ARG3 [0,1,2]\n",
        "\n",
        "vFN_my_function(\"ARG1-John1\", \"ARG2-Mike1\", \"ARG3-Lisa1\") # Function call with three arguments\n",
        "vFN_my_function(\"ARG1-John2\", \"ARG2-Mike2\") # Function call with TWO arguments\n"
      ],
      "metadata": {
        "id": "hdF3TiFwiz2b",
        "colab": {
          "base_uri": "https://localhost:8080/"
        },
        "outputId": "b95a03c5-9aea-4404-e1fc-a3539a979bb7"
      },
      "execution_count": null,
      "outputs": [
        {
          "output_type": "stream",
          "name": "stdout",
          "text": [
            "==>> Example 4 FUNCTION <<===\n",
            "The youngest child is ARG2-Mike1\n",
            "The youngest child is ARG2-Mike2\n"
          ]
        }
      ]
    },
    {
      "cell_type": "code",
      "source": [
        "# ~~~~~~~~~~~~~~~~~~~~~~~~~~~~~~~\n",
        "## Example 5 - Functions WITH UNKNOWN ARG - Arbitrary Arguments, *args\n",
        "# ~~~~~~~~~~~~~~~~~~~~~~~~~~~~~~~\n",
        "print(\"==>> Example 5 FUNCTION <<===\")\n",
        "\n",
        "def vFN_my_function(**vAR_kid):\n",
        "  print(\"THE ARG 2 IS \" + vAR_kid[\"vAR_ARG2\"])\n",
        "\n",
        "vFN_my_function(vAR_ARG1 = \"Argument 1\", vAR_ARG2 = \"Argument 2\") ## Compare the previous CALL , we are using vAR_ARG1 =\n",
        "vFN_my_function(vAR_ARG1 = \"Argument 1\", vAR_ARG2 = \"Argument 2\", vAR_ARG3 = \"Argument 3\") ## Compare the previous CALL , we are using vAR_ARG1 ="
      ],
      "metadata": {
        "id": "xv0pcJe9jU98"
      },
      "execution_count": null,
      "outputs": []
    },
    {
      "cell_type": "code",
      "source": [
        "# ~~~~~~~~~~~~~~~~~~~~~~~~~~~~~~~\n",
        "## Example 6 - Functions WITH Return Values\n",
        "# ~~~~~~~~~~~~~~~~~~~~~~~~~~~~~~~\n",
        "print(\"==>> Example 6 FUNCTION <<===\")\n",
        "def vFN_my_function(vAR_x):\n",
        "  return 100 * vAR_x\n",
        "\n",
        "x=vFN_my_function(3)\n",
        "\n",
        "#print(vFN_my_function(3)) # Calling the fucntion with an ARGU and print the funtion return value\n",
        "#print(vFN_my_function(5)) # Calling the fucntion with an ARGU and print the funtion return value\n",
        "#print(vFN_my_function(9)) # Calling the fucntion with an ARGU and print the funtion return value\n",
        "# When a function returns a value we should handle the return value or store in vAR.\n"
      ],
      "metadata": {
        "id": "nDAg_j61j6Tk",
        "colab": {
          "base_uri": "https://localhost:8080/"
        },
        "outputId": "a1013dd6-e993-48e3-f2e8-f4c0727e33b1"
      },
      "execution_count": null,
      "outputs": [
        {
          "output_type": "stream",
          "name": "stdout",
          "text": [
            "==>> Example 6 FUNCTION <<===\n"
          ]
        },
        {
          "output_type": "execute_result",
          "data": {
            "text/plain": [
              "300"
            ]
          },
          "metadata": {},
          "execution_count": 11
        }
      ]
    },
    {
      "cell_type": "code",
      "source": [
        "# ~~~~~~~~~~~~~~~~~~~~~~~~~~~~~~~\n",
        "## Example 7 - Functions WITH No Code/Pass\n",
        "# ~~~~~~~~~~~~~~~~~~~~~~~~~~~~~~~\n",
        "print(\"==>> Example 7 FUNCTION <<===\")\n",
        "\n",
        "def vFN_Sandhya():\n",
        "  pass\n",
        "  #pass # No Task, No Action, No Return Value"
      ],
      "metadata": {
        "id": "tRfw8MxTkFSO",
        "colab": {
          "base_uri": "https://localhost:8080/"
        },
        "outputId": "425168a0-5ca2-4305-a228-d4225818bb23"
      },
      "execution_count": null,
      "outputs": [
        {
          "output_type": "stream",
          "name": "stdout",
          "text": [
            "==>> Example 7 FUNCTION <<===\n"
          ]
        }
      ]
    },
    {
      "cell_type": "code",
      "source": [
        "# ~~~~~~~~~~~~~~~~~~~~~~~~~~~~~~~\n",
        "# Handling errors #1\n",
        "# ~~~~~~~~~~~~~~~~~~~~~~~~~~~~~~~\n",
        "print(\"==>> Example 1 Handling errors <<===\")\n",
        "vAR_x = 1000\n",
        "del vAR_x\n",
        "try:\n",
        "  print(vAR_x)\n",
        "except:\n",
        "  print(\"An exception occurred\")"
      ],
      "metadata": {
        "id": "HmsFYEfolDO5"
      },
      "execution_count": null,
      "outputs": []
    },
    {
      "cell_type": "code",
      "source": [
        "# ~~~~~~~~~~~~~~~~~~~~~~~~~~~~~~~\n",
        "# Handling errors #2\n",
        "# ~~~~~~~~~~~~~~~~~~~~~~~~~~~~~~~\n",
        "print(\"==>> Example 2 Handling errors <<===\")\n",
        "try:\n",
        "    vAR_numerator = 100\n",
        "    vAR_denominator = 0\n",
        "    vAR_result = vAR_numerator/vAR_denominator\n",
        "    print(vAR_result)\n",
        "except:\n",
        "    print(\"Error: Denominator cannot be 0.\")\n"
      ],
      "metadata": {
        "id": "DLCiDjETlrJo",
        "colab": {
          "base_uri": "https://localhost:8080/"
        },
        "outputId": "e1b04ef5-95f2-4aa4-f5e2-f828c0db18a6"
      },
      "execution_count": null,
      "outputs": [
        {
          "output_type": "stream",
          "name": "stdout",
          "text": [
            "==>> Example 2 Handling errors <<===\n",
            "Error: Denominator cannot be 0.\n"
          ]
        }
      ]
    },
    {
      "cell_type": "code",
      "source": [
        "# ~~~~~~~~~~~~~~~~~~~~~~~~~~~~~~~\n",
        "# Handling errors #3\n",
        "# ~~~~~~~~~~~~~~~~~~~~~~~~~~~~~~~\n",
        "print(\"==>> Example 3 Handling errors <<===\")\n",
        "try:\n",
        "  vAR_even_numbers = [2,4,6,8]\n",
        "  print(vAR_even_numbers[5]) # 5 is out of Index\n",
        "except ZeroDivisionError: # This standred errors that may occur during run time\n",
        "  print(\"Denominator cannot be 0.\")\n",
        "except IndexError:# This standred errors that may occur during run time\n",
        "  print(\"Index Out of Bound.\")"
      ],
      "metadata": {
        "id": "bkpG_F0pl7-0",
        "colab": {
          "base_uri": "https://localhost:8080/"
        },
        "outputId": "8800abc7-54c0-45a5-9814-6c4d94ac6969"
      },
      "execution_count": null,
      "outputs": [
        {
          "output_type": "stream",
          "name": "stdout",
          "text": [
            "==>> Example 3 Handling errors <<===\n",
            "Index Out of Bound.\n"
          ]
        }
      ]
    },
    {
      "cell_type": "code",
      "source": [
        "# ~~~~~~~~~~~~~~~~~~~~~~~~~~~~~~~\n",
        "#  File Processing\n",
        "# ~~~~~~~~~~~~~~~~~~~~~~~~~~~~~~~\n",
        "\n",
        "## read() : This function reads the entire file and returns a string\n",
        "## readline() : This function reads lines from that file and returns as a string. It fetch the line n, if it is been called nth time.\n",
        "## readlines() : This function returns a list where each element is single line of that file.\n",
        "## write() : This function writes a fixed sequence of characters to a file.\n",
        "## writelines() : This function writes a list of string.\n",
        "## append() : This function append string to the file instead of overwriting the file\n",
        "\n",
        "# ~~~~~~~~~~~~~~~~~~~~~~~~~~~~~~~~~~~~~~~~~~~~~~~\n",
        "## File Processing with open and read\n",
        "# ~~~~~~~~~~~~~~~~~~~~~~~~~~~~~~~~~~~~~~~~~~~~~~~~\n",
        "\n",
        "print(\"==>> Example 1 File Processing <<===\")\n",
        "vFP_my_file = open('/content/sample_data/mnist_test.csv', 'r')\n",
        "print(vFP_my_file.read())\n",
        "vFP_my_file.close()"
      ],
      "metadata": {
        "id": "npg1OyiomQai"
      },
      "execution_count": null,
      "outputs": []
    },
    {
      "cell_type": "code",
      "source": [
        "# ~~~~~~~~~~~~~~~~~~~~~~~~~~~~~~~~~~~~~~~~~~~~~~~\n",
        "## File Processing - Copy File\n",
        "# ~~~~~~~~~~~~~~~~~~~~~~~~~~~~~~~~~~~~~~~~~~~~~~~~\n",
        "\n",
        "print(\"==>> Example 2 File Processing <<===\")\n",
        "import shutil ####\n",
        "shutil.copy2('/content/sample_data/mnist_train_small.csv', '/content/sample_data/CPY1_Jothi.txt')\n",
        "\n",
        "##another way to copy file\n",
        "shutil.copyfile('/content/sample_data/mnist_train_small.csv', '/content/sample_data/CPY2_Jothi.txt')\n",
        "print(\"File Copy Done\")"
      ],
      "metadata": {
        "id": "M_Nl8fPhmntt",
        "colab": {
          "base_uri": "https://localhost:8080/"
        },
        "outputId": "608ab418-2aa0-4179-a5e6-c8bf997742ef"
      },
      "execution_count": null,
      "outputs": [
        {
          "output_type": "stream",
          "name": "stdout",
          "text": [
            "==>> Example 2 File Processing <<===\n",
            "File Copy Done\n"
          ]
        }
      ]
    },
    {
      "cell_type": "code",
      "source": [
        "# ~~~~~~~~~~~~~~~~~~~~~~~~~~~~~~~~~~~~~~~~~~~~~~~\n",
        "## File Processing - Delte File\n",
        "# ~~~~~~~~~~~~~~~~~~~~~~~~~~~~~~~~~~~~~~~~~~~~~~~~\n",
        "print(\"==>> Example 3 File Processing <<===\")\n",
        "import shutil\n",
        "import os\n",
        "# two ways to delete file\n",
        "shutil.os.remove('/content/sample_data/CPY1_Jothi.txt')\n",
        "os.remove('/content/sample_data/CPY2_Jothi.txt')\n",
        "print(\"File Removed\")"
      ],
      "metadata": {
        "id": "2fqBewOhm7E-",
        "colab": {
          "base_uri": "https://localhost:8080/"
        },
        "outputId": "a9e4f433-42db-4c48-80a5-cdfbeed10106"
      },
      "execution_count": null,
      "outputs": [
        {
          "output_type": "stream",
          "name": "stdout",
          "text": [
            "==>> Example 3 File Processing <<===\n",
            "File Removed\n"
          ]
        }
      ]
    },
    {
      "cell_type": "code",
      "source": [
        "# ~~~~~~~~~~~~~~~~~~~~~~~~~~~~~~~~~~~~~~~~~~~~~~~\n",
        "## File Processing - Write File\n",
        "# ~~~~~~~~~~~~~~~~~~~~~~~~~~~~~~~~~~~~~~~~~~~~~~~~\n",
        "print(\"==>> Example 4 File Processing <<===\")\n",
        "#open the file\n",
        "vFP_text_file = open('/content/sample_data/Jothi.txt','w')\n",
        "#initialize an empty list\n",
        "vLIST_word_list= []\n",
        "#iterate 4 times\n",
        "for i in range (1, 5):\n",
        "    print(\"Data to be written to file:: \")\n",
        "    vAR_line = input() #take input\n",
        "    vLIST_word_list.append(vAR_line) #append to the list\n",
        "vFP_text_file.writelines(vLIST_word_list) #write 4 words to the file\n",
        "vFP_text_file.close() #don’t forget to close the file"
      ],
      "metadata": {
        "id": "jidD5EybnHvr",
        "colab": {
          "base_uri": "https://localhost:8080/"
        },
        "outputId": "2c29ea27-8eca-400f-bd7e-bc4e91900242"
      },
      "execution_count": null,
      "outputs": [
        {
          "name": "stdout",
          "output_type": "stream",
          "text": [
            "==>> Example 4 File Processing <<===\n",
            "Data to be written to file:: \n",
            "AAAAA\n",
            "Data to be written to file:: \n",
            "BBBBB\n",
            "Data to be written to file:: \n",
            "CCCC\n",
            "Data to be written to file:: \n",
            "DDD\n"
          ]
        }
      ]
    },
    {
      "cell_type": "code",
      "source": [
        "# ~~~~~~~~~~~~~~~~~~~~~~~~~~~~~~~\n",
        "#  Classes and Objects\n",
        "# ~~~~~~~~~~~~~~~~~~~~~~~~~~~~~~~\n",
        "\n",
        "print(\"==>> Example 1 Class and Object <<===\")\n",
        "class vCL_MyClass:\n",
        "  vCAR_x = 5\n",
        "\n",
        "vOBJ_p1 = vCL_MyClass()\n",
        "print(vOBJ_p1.vCAR_x)"
      ],
      "metadata": {
        "id": "lWAZS_jupABT"
      },
      "execution_count": null,
      "outputs": []
    },
    {
      "cell_type": "code",
      "source": [
        "# ~~~~~~~~~~~~~~~~~~~~~~~~~~~~~~~~~~~~~~~~~~~~~~~\n",
        "## Class and Object -All classes have a function called __init__(), which is always executed when the class is being initiated.\n",
        "# ~~~~~~~~~~~~~~~~~~~~~~~~~~~~~~~~~~~~~~~~~~~~~~~~\n",
        "print(\"==>> Example 2 Class and Object <<===\")\n",
        "\n",
        "class vCL_Person:\n",
        "  def __init__(self,vAR_name,vAR_age):\n",
        "    self.vAR_name = vAR_name\n",
        "    self.vAR_age = vAR_age\n",
        "\n",
        "vOBJ_p1 = vCL_Person(\"JOTHI\", 36) # Object Creation\n",
        "\n",
        "print(vOBJ_p1.vAR_name) # Access the variables or class properities through the Object\n",
        "print(vOBJ_p1.vAR_age) # Access the variables or class properities through the Object\n"
      ],
      "metadata": {
        "id": "0mk1k181pTmm"
      },
      "execution_count": null,
      "outputs": []
    },
    {
      "cell_type": "code",
      "source": [
        "# ~~~~~~~~~~~~~~~~~~~~~~~~~~~~~~~~~~~~~~~~~~~~~~~\n",
        "## Class and Object - Class Function\n",
        "# ~~~~~~~~~~~~~~~~~~~~~~~~~~~~~~~~~~~~~~~~~~~~~~~~\n",
        "print(\"==>> Example 3 Class and Object <<===\")\n",
        "class vCL_Person:\n",
        "  def __init__(self, VAR_name, VAR_age): # This is standard fucntion comes with Python\n",
        "    self.VAR_name = VAR_name\n",
        "    self.VAR_age = VAR_age\n",
        "\n",
        "  def vFN_JOTHI(self): # You can use any name ### my Own Function\n",
        "    print(\"Hello my name is \" + self.VAR_name)\n",
        "\n",
        "vOBJ_p1 = vCL_Person(\"JOTHI\", 36) ## Object Creation\n",
        "vOBJ_p1.vFN_JOTHI() # Calling the Funtcion using the Object\n"
      ],
      "metadata": {
        "id": "7EnC_oj3pq_7"
      },
      "execution_count": null,
      "outputs": []
    },
    {
      "cell_type": "code",
      "source": [
        "# ~~~~~~~~~~~~~~~~~~~~~~~~~~~~~~~~~~~~~~~~~~~~~~~\n",
        "## Class and Object - Pass\n",
        "# ~~~~~~~~~~~~~~~~~~~~~~~~~~~~~~~~~~~~~~~~~~~~~~~~\n",
        "print(\"==>> Example 3 Pass <<===\")\n",
        "class Person:\n",
        "  pass"
      ],
      "metadata": {
        "id": "XunWqlrVp686"
      },
      "execution_count": null,
      "outputs": []
    },
    {
      "cell_type": "code",
      "source": [
        "# ~~~~~~~~~~~~~~~~~~~~~~~~~~~~~~~~~~~~~~~~~~~~~~~\n",
        "## Class and Object - Modify and Delete Object Properties\n",
        "# ~~~~~~~~~~~~~~~~~~~~~~~~~~~~~~~~~~~~~~~~~~~~~~~~\n",
        "print(\"==>> Example 4 Pass <<===\")\n",
        "class vCL_Person:\n",
        "  def __init__(self, VAR_name, VAR_age):\n",
        "    self.VAR_name = VAR_name\n",
        "    self.VAR_age = VAR_age\n",
        "\n",
        "  def vFN_myfunc(self):\n",
        "    print(\"Hello my name is \" + self.VAR_name)\n",
        "\n",
        "vOBJ_p1 = vCL_Person(\"JOTHI\", 36)\n",
        "vOBJ_p1.vFN_myfunc()\n",
        "\n",
        "del vOBJ_p1.VAR_name\n",
        "del vOBJ_p1"
      ],
      "metadata": {
        "colab": {
          "base_uri": "https://localhost:8080/"
        },
        "id": "UKhyV10KqBSY",
        "outputId": "5f35e290-0c02-4dd9-be24-5ffc4578dbeb"
      },
      "execution_count": null,
      "outputs": [
        {
          "output_type": "stream",
          "name": "stdout",
          "text": [
            "==>> Example 4 Pass <<===\n",
            "Hello my name is JOTHI\n"
          ]
        }
      ]
    }
  ]
}