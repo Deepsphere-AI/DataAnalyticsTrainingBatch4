{
  "cells": [
    {
      "cell_type": "markdown",
      "metadata": {
        "id": "view-in-github",
        "colab_type": "text"
      },
      "source": [
        "<a href=\"https://colab.research.google.com/github/Deepsphere-AI/DataAnalyticsTrainingBatch4/blob/main/Python/TeachingFiles/DSAI_LVA_Unit_3_Pandas.ipynb\" target=\"_parent\"><img src=\"https://colab.research.google.com/assets/colab-badge.svg\" alt=\"Open In Colab\"/></a>"
      ]
    },
    {
      "cell_type": "code",
      "execution_count": null,
      "metadata": {
        "id": "plC2TWyvXqai"
      },
      "outputs": [],
      "source": [
        "#~~~~~~~~~~~~~~~~~~~~~~~~~\n",
        "# pandas - Example 1 - Pandas\n",
        "# What is Pandas?\n",
        "#  Pandas is a Python library used for working with data sets.\n",
        "#  It has functions for analyzing, cleaning, exploring, and manipulating data.\n",
        "#  The name \"Pandas\" has a reference to both \"Panel Data\", and \"Python Data Analysis\" and was created by Wes McKinney in 2008.\n",
        "#   Pandas gives you answers about the data. Like:\n",
        "#       Correlation between two or more columns\n",
        "#       Average value\n",
        "#       Max value\n",
        "#       Min value\n",
        "#~~~~~~~~~~~~~~~~~~~~~~~~~\n",
        "import pandas\n",
        "mydataset = {  ## What data structure is this?\n",
        "  'cars': [\"BMW\", \"Volvo\", \"Ford\"],\n",
        "  'passings': [3, 7, 2]\n",
        "}\n",
        "myvar_PDF = pandas.DataFrame(mydataset)\n",
        "print(myvar_PDF)\n",
        "\n",
        "import pandas as pd\n",
        "mydataset = {\n",
        "  'cars': [\"BMW\", \"Volvo\", \"Ford\"],\n",
        "  'passings': [3, 7, 2]\n",
        "}\n",
        "myvar_PDF = pd.DataFrame(mydataset)\n",
        "#print(myvar_PDF)\n",
        "#print(pd.__version__) #print(pd.__version__)"
      ]
    },
    {
      "cell_type": "code",
      "execution_count": null,
      "metadata": {
        "colab": {
          "base_uri": "https://localhost:8080/"
        },
        "id": "ENVOBiOCFArU",
        "outputId": "633b1d32-2ef5-4a27-cee9-77072dc171d3"
      },
      "outputs": [
        {
          "name": "stdout",
          "output_type": "stream",
          "text": [
            "Empty DataFrame\n",
            "Columns: []\n",
            "Index: []\n"
          ]
        }
      ],
      "source": [
        "#~~~~~~~~~~~~~~~~~~~~~~~~~\n",
        "# pandas - Example 1.1 - Create an Empty DataFrame\n",
        "#\n",
        "#~~~~~~~~~~~~~~~~~~~~~~~~~\n",
        "\n",
        "import pandas as pd\n",
        "df = pd.DataFrame()\n",
        "print(df)"
      ]
    },
    {
      "cell_type": "code",
      "execution_count": null,
      "metadata": {
        "id": "HGc_7qodIZm5"
      },
      "outputs": [],
      "source": [
        "#~~~~~~~~~~~~~~~~~~~~~~~~~\n",
        "# pandas - Example 1.2 - Create with a List and Columns Value\n",
        "#\n",
        "#~~~~~~~~~~~~~~~~~~~~~~~~~\n",
        "import pandas as pd\n",
        "data = [['Alex',10],['Bob',12],['Clarke',13]]\n",
        "df = pd.DataFrame(data) # No Names Given to the Column\n",
        "print(df)\n",
        "df = pd.DataFrame(data,columns=['Customer Name','Customer Age'])\n",
        "#print(df)"
      ]
    },
    {
      "cell_type": "code",
      "execution_count": null,
      "metadata": {
        "id": "sccSUEiUI1Fh"
      },
      "outputs": [],
      "source": [
        "#~~~~~~~~~~~~~~~~~~~~~~~~~\n",
        "# pandas - Example 1.3 - Create with a List and Columns Value and Data Type\n",
        "##~~~~~~~~~~~~~~~~~~~~~~~~~\n",
        "import pandas as pd\n",
        "data = [['Alex',10],['Bob',12],['Clarke',13]]\n",
        "df = pd.DataFrame(data,columns=['Name','Age'],dtype=float) # There will be a Type Cost Error , Why?\n",
        "print(df)"
      ]
    },
    {
      "cell_type": "code",
      "execution_count": null,
      "metadata": {
        "colab": {
          "base_uri": "https://localhost:8080/"
        },
        "id": "uIB_8Cg9JpPw",
        "outputId": "269f2c09-03fe-4e55-f0ec-5c1e36beebe7"
      },
      "outputs": [
        {
          "name": "stdout",
          "output_type": "stream",
          "text": [
            "    Name  Age\n",
            "0    Tom   28\n",
            "1   Jack   34\n",
            "2  Steve   29\n",
            "3  Ricky   42\n"
          ]
        }
      ],
      "source": [
        "#~~~~~~~~~~~~~~~~~~~~~~~~~\n",
        "# pandas - Example 1.4 - Create a DataFrame from Dict of ndarrays / Lists\n",
        "##~~~~~~~~~~~~~~~~~~~~~~~~~\n",
        "import pandas as pd\n",
        "data = {'Name':['Tom', 'Jack', 'Steve', 'Ricky'],'Age':[28,34,29,42]} # What will happend it the List element's doesn't match\n",
        "df = pd.DataFrame(data)\n",
        "print(df)"
      ]
    },
    {
      "cell_type": "code",
      "execution_count": null,
      "metadata": {
        "colab": {
          "base_uri": "https://localhost:8080/"
        },
        "id": "mVc_qZNyKFMb",
        "outputId": "8fcbd2bc-e5ed-4419-e180-5a40813cd9e2"
      },
      "outputs": [
        {
          "name": "stdout",
          "output_type": "stream",
          "text": [
            "          Name  Age\n",
            "Row #1     Tom   28\n",
            "Row #2    Jack   34\n",
            "Row #3   Steve   29\n",
            "Row #4   Ricky   42\n"
          ]
        }
      ],
      "source": [
        "#~~~~~~~~~~~~~~~~~~~~~~~~~\n",
        "# pandas - Example 1.5 - create an indexed DataFrame using arrays.\n",
        "##~~~~~~~~~~~~~~~~~~~~~~~~~\n",
        "import pandas as pd\n",
        "data = {'Name':['Tom', 'Jack', 'Steve', 'Ricky'],'Age':[28,34,29,42]}\n",
        "df = pd.DataFrame(data, index=['Row #1 ','Row #2 ','Row #3 ','Row #4 ']) # Indexed Data Frame\n",
        "#df = pd.DataFrame(data)\n",
        "print(df)"
      ]
    },
    {
      "cell_type": "code",
      "execution_count": null,
      "metadata": {
        "colab": {
          "base_uri": "https://localhost:8080/"
        },
        "id": "SSB3RyvgLxn9",
        "outputId": "b37d27a9-1fc0-4480-f608-e85a129a4097"
      },
      "outputs": [
        {
          "name": "stdout",
          "output_type": "stream",
          "text": [
            "   a   b   c\n",
            "0  1   2   3\n",
            "1  5  10  20\n"
          ]
        }
      ],
      "source": [
        "#~~~~~~~~~~~~~~~~~~~~~~~~~\n",
        "# pandas - Example 1.6 - Create a DataFrame from List of Dicts\n",
        "##~~~~~~~~~~~~~~~~~~~~~~~~~\n",
        "import pandas as pd\n",
        "data = [{'a': 1, 'b': 2, 'c': 3},{'a': 5, 'b': 10, 'c': 20}]\n",
        "df = pd.DataFrame(data)\n",
        "print(df)"
      ]
    },
    {
      "cell_type": "code",
      "execution_count": null,
      "metadata": {
        "colab": {
          "base_uri": "https://localhost:8080/"
        },
        "id": "rSHy9tIkMVFt",
        "outputId": "4b3fed13-c811-4104-a0e2-bd6a67579154"
      },
      "outputs": [
        {
          "name": "stdout",
          "output_type": "stream",
          "text": [
            "            KEY1  KEY2  KEY3\n",
            "first-Row      1     2   NaN\n",
            "second-Row     5    10  20.0\n"
          ]
        }
      ],
      "source": [
        "#~~~~~~~~~~~~~~~~~~~~~~~~~\n",
        "# pandas - Example 1.6 - NaN (Not a Number) is appended in missing areas.\n",
        "##~~~~~~~~~~~~~~~~~~~~~~~~~\n",
        "import pandas as pd\n",
        "data = [{'KEY1': 1, 'KEY2': 2},{'KEY1': 5, 'KEY2': 10, 'KEY3': 20}]\n",
        "df = pd.DataFrame(data, index=['first-Row', 'second-Row']) ## In ROW 1, there is no KEY 3\n",
        "print(df)"
      ]
    },
    {
      "cell_type": "code",
      "execution_count": null,
      "metadata": {
        "id": "0HNBVEeFNICX"
      },
      "outputs": [],
      "source": [
        "#~~~~~~~~~~~~~~~~~~~~~~~~~\n",
        "# pandas - Example 1.7 - create a DataFrame with a list of dictionaries, row indices, and column indices.\n",
        "##~~~~~~~~~~~~~~~~~~~~~~~~~\n",
        "import pandas as pd\n",
        "data = [{'KEY1': 1, 'KEY2': 2},{'KEY1': 5, 'KEY2': 10, 'KEY3': 20}]\n",
        "\n",
        "#With two column indices, values same as dictionary keys\n",
        "df1 = pd.DataFrame(data, index=['first-Row', 'second-Row'], columns=['KEY1', 'KEY2','KEY3'])\n",
        "\n",
        "#With two column indices with one index with other name\n",
        "df2 = pd.DataFrame(data, index=['first=Row', 'second-Row'], columns=['KEY1', 'KEY4']) # There is no such KEY4\n",
        "\n",
        "print(df1)\n",
        "print('~~~~~~~~~~~~~~~~~~~~~~~~~~~~~~')\n",
        "print(df2)"
      ]
    },
    {
      "cell_type": "code",
      "execution_count": null,
      "metadata": {
        "colab": {
          "background_save": true
        },
        "id": "79qyNBtIPa3N"
      },
      "outputs": [],
      "source": [
        "#~~~~~~~~~~~~~~~~~~~~~~~~~\n",
        "# pandas - Creating a Series.\n",
        "##~~~~~~~~~~~~~~~~~~~~~~~~~\n",
        "import pandas as pd\n",
        "x = pd.Series()\n",
        "print (x)"
      ]
    },
    {
      "cell_type": "code",
      "source": [
        "#~~~~~~~~~~~~~~~~~~~~~~~~~\n",
        "# pandas - Creating a Series.  numpy as a Source\n",
        "##~~~~~~~~~~~~~~~~~~~~~~~~~\n",
        "import pandas as pd\n",
        "import numpy as np\n",
        "info = np.array(['P','a','n','d','a','s'])\n",
        "a = pd.Series(info)\n",
        "print(a)"
      ],
      "metadata": {
        "id": "vuWzc4tOQ0jd"
      },
      "execution_count": null,
      "outputs": []
    },
    {
      "cell_type": "code",
      "source": [
        "#~~~~~~~~~~~~~~~~~~~~~~~~~\n",
        "# pandas - Creating a Series.  using DICT as a Source\n",
        "##~~~~~~~~~~~~~~~~~~~~~~~~~\n",
        "import pandas as pd\n",
        "import numpy as np\n",
        "info = {'KEY1' : 0., 'KEY2' : 1., 'KEY3' : 2.}\n",
        "a = pd.Series(info)\n",
        "print (a)"
      ],
      "metadata": {
        "id": "2Nwi3JLQQ9G5"
      },
      "execution_count": null,
      "outputs": []
    },
    {
      "cell_type": "code",
      "source": [
        "#~~~~~~~~~~~~~~~~~~~~~~~~~\n",
        "# pandas - Creating a Series.  using Scalar as a Source\n",
        "##~~~~~~~~~~~~~~~~~~~~~~~~~\n",
        "import pandas as pd\n",
        "import numpy as np\n",
        "x = pd.Series(4, index=[0, 1, 2, 3])\n",
        "print (x)"
      ],
      "metadata": {
        "id": "ZBWZyJpERzWe"
      },
      "execution_count": null,
      "outputs": []
    },
    {
      "cell_type": "code",
      "source": [
        "#~~~~~~~~~~~~~~~~~~~~~~~~~\n",
        "# pandas - Creating a Series.  List with Index\n",
        "##~~~~~~~~~~~~~~~~~~~~~~~~~\n",
        "import pandas as pd\n",
        "import numpy as np\n",
        "data = np.array(['a','b','c','d'])\n",
        "s = pd.Series(data,index=[100,101,102,103])\n",
        "print(s)"
      ],
      "metadata": {
        "id": "LjJMDflJRqJ1"
      },
      "execution_count": null,
      "outputs": []
    },
    {
      "cell_type": "code",
      "execution_count": null,
      "metadata": {
        "id": "Z1XZcJZwPTBA"
      },
      "outputs": [],
      "source": [
        "#~~~~~~~~~~~~~~~~~~~~~~~~~\n",
        "# pandas - Example 1.7 - Create a DataFrame from Dict of Series\n",
        "##~~~~~~~~~~~~~~~~~~~~~~~~~\n",
        "\n",
        "import pandas as pd\n",
        "\n",
        "d = {'STOCK-INDEX-KEY-1' : pd.Series([1, 2, 3], index=['INDEX-1', 'INDEX-2', 'INDEX-3']),\n",
        "     'STOCK-INDEX-KEY-2' : pd.Series([1, 2, 3, 4], index=['INDEX-1', 'INDEX-2', 'INDEX-3', 'INDEX-4'])}\n",
        "\n",
        "df = pd.DataFrame(d)\n",
        "print(df)"
      ]
    },
    {
      "cell_type": "code",
      "execution_count": null,
      "metadata": {
        "id": "k3w4_yIARY85"
      },
      "outputs": [],
      "source": [
        "#~~~~~~~~~~~~~~~~~~~~~~~~~\n",
        "# pandas - Example 1.7 - Column Selection\n",
        "##~~~~~~~~~~~~~~~~~~~~~~~~~\n",
        "import pandas as pd\n",
        "\n",
        "d = {'KEY-1' : pd.Series([1, 2, 3], index=['ROW1', 'ROW2', 'ROW3']),\n",
        "   'KEY-2' : pd.Series([1111, 2222, 3333, 4444], index=['ROW1', 'ROW2', 'ROW3', 'ROW4'])}\n",
        "\n",
        "df = pd.DataFrame(d)\n",
        "#print(df ['COLUMN-ONE'])\n",
        "print('~~~~~~~~~~~~~~~~~~~~~~~~~~~~~~~~~`')\n",
        "print(df ['KEY-1']) # Column Selection , Switch between KEY-1"
      ]
    },
    {
      "cell_type": "code",
      "execution_count": null,
      "metadata": {
        "id": "Ov5b9E6Da_JZ"
      },
      "outputs": [],
      "source": [
        "#~~~~~~~~~~~~~~~~~~~~~~~~~\n",
        "# pandas - Example 2 - Series?\n",
        "# A Pandas Series is like a column in a table.\n",
        "#~~~~~~~~~~~~~~~~~~~~~~~~~\n",
        "import pandas as pd\n",
        "a = [1111, 77777, 22222,44444,55555]\n",
        "pds = pd.Series(a)\n",
        "print(pds)\n",
        "print('###################')\n",
        "print(a[0]) #Return the first value of the Series:"
      ]
    },
    {
      "cell_type": "code",
      "execution_count": null,
      "metadata": {
        "id": "fQqnPBeVb5tp"
      },
      "outputs": [],
      "source": [
        "#~~~~~~~~~~~~~~~~~~~~~~~~~\n",
        "# pandas - Example 3 - Create Labels\n",
        "# Create your own labels:\n",
        "#~~~~~~~~~~~~~~~~~~~~~~~~~\n",
        "import pandas as pd\n",
        "a = [11111, 7777, 22222, 44444,55555]\n",
        "myvar = pd.Series(a, index = [\"Index 1\", \"Index 2\", \"Index 3\",\"Index 4\",\"Index 5\"])\n",
        "print(myvar)\n",
        "print('+===================+')\n",
        "print(myvar[\"Index 1\"])\n"
      ]
    },
    {
      "cell_type": "code",
      "execution_count": null,
      "metadata": {
        "id": "y7aDI7cRcn6W"
      },
      "outputs": [],
      "source": [
        "#~~~~~~~~~~~~~~~~~~~~~~~~~\n",
        "# pandas - Example 4 - Key/Value Objects as Series\n",
        "# Key/Value Objects as Series\n",
        "#~~~~~~~~~~~~~~~~~~~~~~~~\n",
        "import pandas as pd\n",
        "calories = {\"day1\": 4244444, \"day2\": 385555, \"day3\": 396666} #Create a simple Pandas Series from a dictionary:\n",
        "myvar = pd.Series(calories) # I want to access all Index - That's why I did specifiy the Index\n",
        "#print(myvar)\n",
        "\n",
        "myvar = pd.Series(calories, index = [\"day1\", \"day1\", \"day1\", \"day4\"])\n",
        "print(myvar)"
      ]
    },
    {
      "cell_type": "code",
      "execution_count": null,
      "metadata": {
        "id": "q85jy02hddw-"
      },
      "outputs": [],
      "source": [
        "#~~~~~~~~~~~~~~~~~~~~~~~~~\n",
        "# pandas - Example 5 - Create a DataFrame from two Series:\n",
        "# Create a DataFrame from two Series:\n",
        "#~~~~~~~~~~~~~~~~~~~~~~~~\n",
        "import pandas as pd\n",
        "data = {\n",
        "  \"calories\": [420, 380, 390],\n",
        "  \"duration\": [50, 40, 45]\n",
        "}\n",
        "myvar = pd.DataFrame(data)\n",
        "print(myvar)"
      ]
    },
    {
      "cell_type": "code",
      "execution_count": null,
      "metadata": {
        "id": "MSm-CrxwdtnW"
      },
      "outputs": [],
      "source": [
        "#~~~~~~~~~~~~~~~~~~~~~~~~~\n",
        "# pandas - Example 6 - Locate Row\n",
        "# Locate Row\n",
        "# 01/02/2024\n",
        "#~~~~~~~~~~~~~~~~~~~~~~~~\n",
        "import pandas as pd\n",
        "data = {\n",
        "  \"calories\": [420, 380, 390],\n",
        "  \"duration\": [50, 40, 45]\n",
        "}\n",
        "#load data into a DataFrame object:\n",
        "df = pd.DataFrame(data)\n",
        "#print(df)\n",
        "print(\"################\")\n",
        "print(df.loc[1]) #refer to the row index: Return row 0:\n",
        "print(\"################\")\n",
        "print(df.loc[[0, 1]]) #Return row 0 and 1:\n"
      ]
    },
    {
      "cell_type": "code",
      "execution_count": null,
      "metadata": {
        "id": "qQQBbm4KAjQL"
      },
      "outputs": [],
      "source": [
        "#~~~~~~~~~~~~~~~~~~~~~~~~~\n",
        "# pandas - Example 7 - Pandas Read CSV\n",
        "# Pandas Read CSV\n",
        "# Set Max Rows\n",
        "#~~~~~~~~~~~~~~~~~~~~~~~~\n",
        "\n",
        "import pandas as pd\n",
        "df = pd.read_csv('/content/sample_data/UNIT3LVADSAIEMPDATAv1.csv')\n",
        "#print(df.to_string()) #use to_string() to print the entire DataFrame.\n",
        "\n",
        "print(pd.options.display.max_rows)  # What is the dault max value (max rows) of a data frame\n",
        "                 ### ~~~~ You can check your system's maximum rows with the pd.options.display.max_rows statement.\n",
        "#pd.options.display.max_rows = 400\n",
        "#print(pd.options.display.max_rows)\n",
        "#print(df)\n",
        "#print(df.to_string())"
      ]
    },
    {
      "cell_type": "code",
      "execution_count": null,
      "metadata": {
        "id": "UenpnjkTtPRd"
      },
      "outputs": [],
      "source": [
        "#~~~~~~~~~~~~~~~~~~~~~~~~~\n",
        "# pandas - Example 7.1 - Reading CSV Files with csv lib\n",
        "# Reading CSV Files with csv lib\n",
        "#~~~~~~~~~~~~~~~~~~~~~~~~\n",
        "\n",
        "import csv\n",
        "with open('/content/sample_data/UNIT3LVADSAIEMPDATAv1.csv', 'r') as file:\n",
        "    reader = csv.reader(file)\n",
        "    for row in reader:\n",
        "        print(row)"
      ]
    },
    {
      "cell_type": "code",
      "execution_count": null,
      "metadata": {
        "id": "xBnDE8OWwLgp"
      },
      "outputs": [],
      "source": [
        "#~~~~~~~~~~~~~~~~~~~~~~~~~\n",
        "# pandas - Example 7.2 - Leveraging \"numpy\" for Reading CSV Files\n",
        "# Leveraging numpy for Reading CSV Files\n",
        "#~~~~~~~~~~~~~~~~~~~~~~~~\n",
        "\n",
        "import numpy as np\n",
        "data = np.genfromtxt('/content/sample_data/UNIT3LVADSAIEMPDATAv1.csv', delimiter=',')\n",
        "print(data)\n",
        "## Question - Why is the data displayed in format different than the csv.reader"
      ]
    },
    {
      "cell_type": "code",
      "execution_count": null,
      "metadata": {
        "id": "GmfiboPOzFsm"
      },
      "outputs": [],
      "source": [
        "#~~~~~~~~~~~~~~~~~~~~~~~~~\n",
        "# pandas - Example 7.3 - Handling Missing Values\n",
        "# Handling Missing Values\n",
        "# Missing data can be a common issue when reading CSV files.\n",
        "# By default, pandas recognizes certain values like ‘NA’ or ‘NULL’ as missing data.\n",
        "#~~~~~~~~~~~~~~~~~~~~~~~~\n",
        "import pandas as pd\n",
        "df = pd.read_csv('/content/sample_data/UNIT3LVADSAIEMPDATAv1.csv', na_values=['NA', 'NULL', 'Missing'])\n",
        "print(df)\n",
        "## How to replace the defult \"NaN\" value to someting busienss focused values like (0000)\n"
      ]
    },
    {
      "cell_type": "code",
      "execution_count": null,
      "metadata": {
        "id": "IkEObHoGz_TV"
      },
      "outputs": [],
      "source": [
        "#~~~~~~~~~~~~~~~~~~~~~~~~~\n",
        "# pandas - Example 7.4 - Dealing with Incorrect Data Types\n",
        "# Dealing with Incorrect Data Types\n",
        "#~~~~~~~~~~~~~~~~~~~~~~~~\n",
        "import pandas as pd\n",
        "df = pd.read_csv('/content/sample_data/UNIT3LVADSAIEMPDATAv1.csv', dtype={'COL1': int, 'COL2': float,'ECOMM': float})\n",
        "print(df)"
      ]
    },
    {
      "cell_type": "code",
      "execution_count": null,
      "metadata": {
        "id": "ytMtiHFY3Fsq"
      },
      "outputs": [],
      "source": [
        "#~~~~~~~~~~~~~~~~~~~~~~~~~\n",
        "# pandas - Example 7.5 - Utilizing header Parameter\n",
        "# Utilizing header Parameter\n",
        "# In this case, the first row (0th index) of the CSV file is used as the column names of the DataFrame.\n",
        "#~~~~~~~~~~~~~~~~~~~~~~~~\n",
        "import pandas as pd\n",
        "df = pd.read_csv('/content/sample_data/UNIT3LVADSAIEMPDATAv1.csv', header=1) ## Set to  \"0\", \"1\"\n",
        "print(df)"
      ]
    },
    {
      "cell_type": "code",
      "execution_count": null,
      "metadata": {
        "id": "bnchBt_Q3ipB"
      },
      "outputs": [],
      "source": [
        "#~~~~~~~~~~~~~~~~~~~~~~~~~\n",
        "# pandas - Example 7.6 - usecols Parameter\n",
        "# only ‘EID’ and ‘ESAL’ from the CSV file are read into the DataFrame.\n",
        "#~~~~~~~~~~~~~~~~~~~~~~~~\n",
        "import pandas as pd\n",
        "\n",
        "df = pd.read_csv('/content/sample_data/UNIT3LVADSAIEMPDATAv1.csv', usecols=['EMPLOYEE_ID', 'HIRE_DATE'])\n",
        "#df = pd.read_csv('/content/sample_data/UNIT3LVADSAIEMPDATAv1.csv')\n",
        "print(df)"
      ]
    },
    {
      "cell_type": "code",
      "execution_count": null,
      "metadata": {
        "id": "CPBhsRzI4gdZ"
      },
      "outputs": [],
      "source": [
        "#~~~~~~~~~~~~~~~~~~~~~~~~~\n",
        "# pandas - Example 7.7 - index_col Parameter\n",
        "# ‘Column1’ from the CSV file is used as the index of the DataFrame\n",
        "#~~~~~~~~~~~~~~~~~~~~~~~~\n",
        "import pandas as pd\n",
        "\n",
        "df = pd.read_csv('/content/sample_data/UNIT3LVADSAIEMPDATAv1.csv', index_col='EMPLOYEE_ID') # See the Index\n",
        "# df = pd.read_csv('/content/sample_data/UNIT3LVADSAIEMPDATAv1.csv') # See the Index\n",
        "print(df)"
      ]
    },
    {
      "cell_type": "code",
      "execution_count": null,
      "metadata": {
        "id": "w7i_ODrt4MlP"
      },
      "outputs": [],
      "source": []
    },
    {
      "cell_type": "code",
      "execution_count": null,
      "metadata": {
        "id": "NzrMaw5sHTKD"
      },
      "outputs": [],
      "source": [
        "#~~~~~~~~~~~~~~~~~~~~~~~~~\n",
        "#~~~~~~~~~~~~~~~~~~~~~~~~~\n",
        "# pandas - Example 8 - Exercise\n",
        "# Pandas Read CSV\n",
        "#~~~~~~~~~~~~~~~~~~~~~~~~\n",
        "#~~~~~~~~~~~~~~~~~~~~~~~~~\n",
        "# [[1]] - Instead of selecting all columns in the file, select only certain columns\n",
        "# [[2]] - In the case of NULL values, set the columns to a default value\n",
        "# [[3]] - Add +/- to two columns (ex: order amount - order discount)\n",
        "# [[4]] - Change the display order according to business requirements instead of displaying as it is in the file\n",
        "# [[5]] - Display only the columns with string values\n",
        "# [[6]] - Display only employees belonging to department 100 in an employee CSV file using a Python data frame\n",
        "# [[7] - Using a Python data frame, calculate employee total compensation as an added column (the column does not exist in the employee data CSV file).\n",
        "#        Salary plus commission equals total compensation.\n",
        "#\n",
        "##~~~~~~~~~~~~~~~~~~~~~~~~~\n",
        "##~~~~~~~~~~~~~~~~~~~~~~~~~"
      ]
    },
    {
      "cell_type": "code",
      "execution_count": null,
      "metadata": {
        "colab": {
          "base_uri": "https://localhost:8080/"
        },
        "id": "aCbkLwG6LcMn",
        "outputId": "18c6a932-455c-49fb-8144-4d07025b46c3"
      },
      "outputs": [
        {
          "name": "stdout",
          "output_type": "stream",
          "text": [
            "   Duration  Pulse  Maxpulse  Calories\n",
            "0        60    110       130       409\n",
            "1        60    117       145       479\n",
            "2        60    103       135       340\n",
            "3        45    109       175       282\n",
            "4        45    117       148       406\n",
            "5        60    102       127       300\n"
          ]
        }
      ],
      "source": [
        "#~~~~~~~~~~~~~~~~~~~~~~~~~\n",
        "# pandas - Example 9 - Pandas Read JSON\n",
        "# JSON = JSON stands for JavaScript Object Notation\n",
        "# JSON is an open standard file format and data interchange format that uses human-readable text to store and\n",
        "#     transmit data objects consisting of attribute–value pairs and arrays.\n",
        "#     It is a common data format with diverse uses in electronic data interchange, including that of web applications with servers\n",
        "#~~~~~~~~~~~~~~~~~~~~~~~~\n",
        "import pandas as pd\n",
        "data = {\n",
        "  \"Duration\":{\n",
        "    \"0\":60,\n",
        "    \"1\":60,\n",
        "    \"2\":60,\n",
        "    \"3\":45,\n",
        "    \"4\":45,\n",
        "    \"5\":60\n",
        "  },\n",
        "  \"Pulse\":{\n",
        "    \"0\":110,\n",
        "    \"1\":117,\n",
        "    \"2\":103,\n",
        "    \"3\":109,\n",
        "    \"4\":117,\n",
        "    \"5\":102\n",
        "  },\n",
        "  \"Maxpulse\":{\n",
        "    \"0\":130,\n",
        "    \"1\":145,\n",
        "    \"2\":135,\n",
        "    \"3\":175,\n",
        "    \"4\":148,\n",
        "    \"5\":127\n",
        "  },\n",
        "  \"Calories\":{\n",
        "    \"0\":409,\n",
        "    \"1\":479,\n",
        "    \"2\":340,\n",
        "    \"3\":282,\n",
        "    \"4\":406,\n",
        "    \"5\":300\n",
        "  }\n",
        "}\n",
        "df = pd.DataFrame(data)\n",
        "print(df)"
      ]
    },
    {
      "cell_type": "code",
      "execution_count": null,
      "metadata": {
        "colab": {
          "base_uri": "https://localhost:8080/"
        },
        "id": "ijVS3AQPOEBz",
        "outputId": "e1c0a215-920c-4794-db11-909708759104"
      },
      "outputs": [
        {
          "name": "stdout",
          "output_type": "stream",
          "text": [
            "                    user_id              email            name given_name family_name nickname        last_ip  logins_count                       created_at                       updated_at                last_login  email_verified\n",
            "0  583c3ac3f38e84297c002546      test@test.com   test@test.com      Hello        Test     test  94.121.163.63          15.0 2016-11-28 14:10:11.338000+00:00 2016-12-02 01:17:29.310000+00:00  2016-12-02T01:17:29.310Z            True\n",
            "1  583c5484cb79a5fe593425a9     test1@test.com  test1@test.com     Hello1       Test1    test1  94.121.168.53           1.0 2016-11-28 16:00:04.209000+00:00 2016-11-28 16:00:47.203000+00:00  2016-11-28T16:00:47.203Z            True\n",
            "2  583c57672c7686377d2f66c9        aaa@aaa.com     aaa@aaa.com       John       Dough      aaa  94.121.168.53           2.0 2016-11-28 16:12:23.777000+00:00 2016-11-28 16:12:52.353000+00:00  2016-11-28T16:12:52.353Z            True\n",
            "3  5840b954da0529cd293d76fe            a@a.com         a@a.com       Jane       Dough        a  94.121.163.63           3.0 2016-12-01 23:59:16.473000+00:00 2016-12-01 23:59:53.474000+00:00  2016-12-01T23:59:53.474Z            True\n",
            "4  584a9d13e808bcf75f05f580  test9999@test.com             NaN      Dummy        User      NaN            NaN           NaN 2016-12-09 12:01:23.787000+00:00 2016-12-09 12:01:23.787000+00:00                       NaN           False\n"
          ]
        }
      ],
      "source": [
        "#~~~~~~~~~~~~~~~~~~~~~~~~~\n",
        "#~~~~~~~~~~~~~~~~~~~~~~~~~\n",
        "# pandas - Example 10 - Pandas Read JSON\n",
        "# Pandas Read JSON\n",
        "#~~~~~~~~~~~~~~~~~~~~~~~~\n",
        "#~~~~~~~~~~~~~~~~~~~~~~~~~\n",
        "import pandas as pd\n",
        "df = pd.read_json('/content/sample_data/UNIT3LVADSAI-WEBUSER.json')\n",
        "print(df.to_string())"
      ]
    }
  ],
  "metadata": {
    "colab": {
      "provenance": [],
      "include_colab_link": true
    },
    "kernelspec": {
      "display_name": "Python 3",
      "name": "python3"
    },
    "language_info": {
      "name": "python"
    }
  },
  "nbformat": 4,
  "nbformat_minor": 0
}