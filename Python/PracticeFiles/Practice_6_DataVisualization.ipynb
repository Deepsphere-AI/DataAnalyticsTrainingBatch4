{
  "nbformat": 4,
  "nbformat_minor": 0,
  "metadata": {
    "colab": {
      "provenance": [],
      "include_colab_link": true
    },
    "kernelspec": {
      "name": "python3",
      "display_name": "Python 3"
    },
    "language_info": {
      "name": "python"
    }
  },
  "cells": [
    {
      "cell_type": "markdown",
      "metadata": {
        "id": "view-in-github",
        "colab_type": "text"
      },
      "source": [
        "<a href=\"https://colab.research.google.com/github/Deepsphere-AI/DataAnalyticsTrainingBatch4/blob/main/Python/PracticeFiles/Practice_6_DataVisualization.ipynb\" target=\"_parent\"><img src=\"https://colab.research.google.com/assets/colab-badge.svg\" alt=\"Open In Colab\"/></a>"
      ]
    },
    {
      "cell_type": "markdown",
      "source": [
        " **Question 1**:You're planning a vacation and want to choose the best time to visit different cities based on temperature trends. Write a function that takes in monthly average temperatures for three cities and generates a visualization that helps you compare temperature patterns across the cities. Hint: By analyzing, we can observe that City 3 generally has higher temperatures compared to City 1 and City 2 throughout the year. Additionally, City 1 experiences more fluctuation in temperature, while City 2 shows a more stable trend. Seasonal trends such as higher temperatures in summer and lower temperatures in winter are evident across all cities.\n",
        "\n",
        " Sample data: city1_temps = [20, 22, 25, 28, 30, 32, 34, 33, 30, 27, 24, 22] city2_temps = [18, 20, 23, 26, 28, 30, 32, 31, 28, 25, 22, 20] city3_temps = [22, 25, 28, 30, 32, 34, 35, 35, 33, 30, 26, 23] months = ['Jan', 'Feb', 'Mar', 'Apr', 'May', 'Jun', 'Jul', 'Aug', 'Sep', 'Oct', 'Nov', 'Dec']"
      ],
      "metadata": {
        "id": "T_TX9ztkb4OE"
      }
    },
    {
      "cell_type": "markdown",
      "source": [
        "**Question 2:** You're working for a marketing agency and need to identify potential customer segments for a new product launch. Write a script that analyzes customer data, including age, income, and purchase behavior, and generates visualizations that highlight distinct customer segments. Hint: The younger customers with lower incomes tend to have lower purchase behavior, while older customers with higher incomes exhibit higher purchase behavior. Sample customer data Age: [25, 30, 35, 40, 45] Income: [50000, 60000, 70000, 80000, 90000] Purchase Behavior': ['High', 'Low', 'Medium', 'High', 'Low']"
      ],
      "metadata": {
        "id": "LRnFwtGLcAB9"
      }
    },
    {
      "cell_type": "markdown",
      "source": [
        "**Question 3:** As a financial advisor, you're analyzing the performance of different sectors in the stock market. Develop a script that visualizes the daily closing prices of stocks from three different sectors and identifies any notable trends or correlations. Sample stock data\n",
        "'Date': ['2024-01-01', '2024-01-02', '2024-01-03']\n",
        "'Company A': [100, 105, 110]\n",
        "'Company B': [150, 145, 140]m\n",
        "'Company C': [200, 195, 190]"
      ],
      "metadata": {
        "id": "TpyGBvK8cIfR"
      }
    },
    {
      "cell_type": "markdown",
      "source": [
        "**Question 4:** You're analyzing the transportation mode preferences of commuters in a city. The data includes the percentage of commuters who prefer different modes of transportation:\n",
        "\n",
        "'Walking: 25%' 'Cycling: 15%' 'Public Transportation: 30%' 'Driving: 20%' 'Carpooling: 10%' Visualize the transportation mode preferences in a manner that highlights the differences in popularity among the modes.\n",
        "\n"
      ],
      "metadata": {
        "id": "zb7MIHJVcaTE"
      }
    },
    {
      "cell_type": "markdown",
      "source": [
        "**Question 6:**  Imagine you're a meteorologist analyzing temperature trends over the past decade. Visualize the monthly average temperatures for three different cities using Matplotlib. How do the temperature patterns vary across the cities, and can you identify any seasonal trends?\n",
        "Hint: Sample data:\n",
        "cities = ['City A', 'City B', 'City C']\n",
        "months = 12 months\n",
        "temperatures = random (20, 35)\n"
      ],
      "metadata": {
        "id": "fe9kil7_clGy"
      }
    },
    {
      "cell_type": "markdown",
      "source": [
        "**Question 7:**Create a pair plot using Seaborn to explore relationships between age, income, and purchase behavior. Identify distinct clusters or segments of customers based on similarities or patterns in these variables.\n",
        "Sample customer data:\n",
        "Age: random (20, 70)\n",
        "Income: random(50000, 10000)\n",
        "Purchase Behavior: random(0, 2)"
      ],
      "metadata": {
        "id": "hcP0vDYIczGH"
      }
    },
    {
      "cell_type": "markdown",
      "source": [
        "**Question 8:**Plot the daily closing prices of three technology companies using Pandas plotting capabilities. Look for correlations or trends among the stocks by observing their price movements over time. Sample data: Stock A: random(100, 10) Stock B: random(120, 15) Stock C: random(90, 8)"
      ],
      "metadata": {
        "id": "UZQ3BxyKc5UM"
      }
    },
    {
      "cell_type": "markdown",
      "source": [
        "**Question 9:**You're conducting a demographic analysis of customers in a retail store. The data includes the age groups of customers along with their corresponding purchase amounts:\n",
        "\n",
        "'Age Group 18-25': 'Total purchase amount $5000'\n",
        "'Age Group 26-35': 'Total purchase amount $7500'\n",
        "'Age Group 36-45': 'Total purchase amount $6000'\n",
        "'Age Group 46-55': 'Total purchase amount $8500'\n",
        "'Age Group 56 and above': 'Total purchase amount $7000'\n",
        "Visualize the distribution of purchase amounts across different age groups."
      ],
      "metadata": {
        "id": "Sh5zzbanc-Zw"
      }
    },
    {
      "cell_type": "markdown",
      "source": [
        "**Question 10:**Given monthly average temperatures for two cities over a year, create a line plot to compare their temperature trends. Add labels and a title to the plot.\n",
        "Monthly average temperatures for two cities\n",
        "months = 12 months\n",
        "city1_temps = [20, 22, 25, 28, 30, 32, 34, 33, 30, 27, 24, 22]\n",
        "city2_temps = [18, 20, 23, 26, 28, 30, 32, 31, 28, 25, 22, 20]"
      ],
      "metadata": {
        "id": "rYweyc-RdFk7"
      }
    },
    {
      "cell_type": "markdown",
      "source": [
        "Question 11:Plot monthly sales data for three products on the same graph using different colors for each product. Customize the plot with appropriate labels and a legend. Sample data: product1_sales = [1000, 1200, 1100, 900, 950, 1050, 1150, 1300, 1400, 1350, 1200, 1100] product2_sales = [800, 850, 900, 1000, 1100, 1200, 1300, 1400, 1500, 1600, 1700, 1800] product3_sales = [600, 700, 800, 900, 1000, 1100, 1200, 1300, 1400, 1500, 1600, 1700]"
      ],
      "metadata": {
        "id": "qdqH_Z_EeL_t"
      }
    },
    {
      "cell_type": "markdown",
      "source": [
        "Question 12:Imagine you're a retail analyst studying the sales performance of different product categories over the past year. Plot the monthly sales data for three product categories on the same graph, highlighting any seasonal trends. Monthly sales data: category1_sales = [10000, 12000, 11000, 9000, 9500, 10500, 11500, 13000, 14000, 13500, 12000, 11000] category2_sales = [8000, 8500, 9000, 10000, 11000, 12000, 13000, 14000, 15000, 16000, 17000, 18000] category3_sales = [6000, 7000, 8000, 9000, 10000, 11000, 12000, 13000, 14000, 15000, 16000, 17000]"
      ],
      "metadata": {
        "id": "UHyzx78SeRNZ"
      }
    },
    {
      "cell_type": "markdown",
      "source": [
        "**Question 13:**As a financial analyst, you're preparing a quarterly report for investors. Create a line plot to visualize the quarterly revenue and profit trends for a company over the past two years.Sample Data:revenue = [500000, 550000, 600000, 650000, 700000, 750000, 800000, 850000] profit = [100000, 120000, 130000, 150000, 160000, 170000, 180000, 190000]"
      ],
      "metadata": {
        "id": "REpRT23LeWSN"
      }
    },
    {
      "cell_type": "markdown",
      "source": [
        "**Question 14:**As a human resources manager, you're evaluating the performance of employees across different departments. Create a box plot to compare the performance ratings of employees in three departments. Sample performance ratings for employees in three departments dept1_ratings = [3.5, 4.0, 3.8, 4.2, 3.9, 4.1, 4.3, 4.0, 3.7, 3.9] dept2_ratings = [4.2, 4.1, 3.9, 4.3, 4.0, 3.8, 4.2, 3.7, 4.1, 4.0] dept3_ratings = [3.9, 3.7, 4.0, 4.1, 3.8, 4.2, 4.0, 4.3, 3.8, 4.1]"
      ],
      "metadata": {
        "id": "qvZT1yX_ebEn"
      }
    },
    {
      "cell_type": "markdown",
      "source": [
        "**Question 15:**How would you use Seaborn to visualize the distribution of randomly generated data from a normal distribution, a uniform distribution, and an exponential distribution on separate histograms?"
      ],
      "metadata": {
        "id": "b_BuM1NWeffs"
      }
    },
    {
      "cell_type": "markdown",
      "source": [
        "**Question 16:**You're analyzing the website traffic data for a company's website over the past month. Create an area plot to visualize the daily trend in website traffic. Hint: generate random website traffic data."
      ],
      "metadata": {
        "id": "pNN08kO8ej6y"
      }
    },
    {
      "cell_type": "markdown",
      "source": [
        "**Question 17:**Given two variables representing a person's age and their corresponding income, how would you use Seaborn to create a scatter plot to visualize the relationship between age and income? Hint: Generate random data for age and income."
      ],
      "metadata": {
        "id": "EPM4fWNVetgM"
      }
    },
    {
      "cell_type": "markdown",
      "source": [
        "**Question 18:** Imagine you have three variables representing a person's age, weight, and height. How would you use Seaborn to create a 3D scatter plot to visualize the relationships between age, weight, and height? Hint: Generate random data for age, weight, and height"
      ],
      "metadata": {
        "id": "vNA6bJlbeuNk"
      }
    },
    {
      "cell_type": "markdown",
      "source": [
        "**Question 19:**Suppose you have time series data representing the daily stock prices of a company over the past year. How would you use Seaborn to create a line plot to visualize the daily stock prices? Hint: Generate random sample time series dara for daily stock prices."
      ],
      "metadata": {
        "id": "veHWo8qUeyjC"
      }
    },
    {
      "cell_type": "markdown",
      "source": [
        "**Question 20:** Given a list of timestamps and corresponding values representing daily temperature readings, how would you use Matplotlib to create a line plot to visualize the daily temperature trends over time? Sample time series data for daily temperature readings timestamps = ['2023-01-01', '2023-01-02', '2023-01-03', '2023-01-04', '2023-01-05'] temperatures = [20, 22, 25, 23, 21]"
      ],
      "metadata": {
        "id": "rEfYTaf1e6kt"
      }
    },
    {
      "cell_type": "markdown",
      "source": [
        "**Question 21:** Suppose you have a list of exam scores for a class of students. How would you use Matplotlib to create a histogram to visualize the distribution of exam scores?\n",
        "Sample exam scores for a class of students\n",
        "exam_scores = [65, 70, 75, 80, 85, 90, 95, 100, 75, 80, 85, 90, 95]"
      ],
      "metadata": {
        "id": "kkWwhJcJfAdx"
      }
    },
    {
      "cell_type": "markdown",
      "source": [
        "**Question 22:**Imagine you have a dictionary containing the counts of different types of fruits. How would you use Matplotlib to create a bar plot to visualize the quantities of each fruit type? Sample dictionary containing fruit quantities fruit_counts = {'Apples': 25, 'Oranges': 30, 'Bananas': 20}"
      ],
      "metadata": {
        "id": "NKUW6JnAfLR9"
      }
    },
    {
      "cell_type": "markdown",
      "source": [
        "**Question 23:**Given a list of performance ratings for employees in 3 different departments, how would you use Matplotlib to create a box plot to compare the performance ratings across departments? Hint: create random ratings score."
      ],
      "metadata": {
        "id": "rNi02E1CfRWe"
      }
    },
    {
      "cell_type": "markdown",
      "source": [
        "**Question 24:**Suppose you have two lists representing the heights and weights of individuals. How would you use Matplotlib to create a scatter plot to visualize the relationship between height and weight? Hint: Generate random data for height and weight"
      ],
      "metadata": {
        "id": "LXlkiGh7fWi3"
      }
    },
    {
      "cell_type": "markdown",
      "source": [
        "**Question 25:**You have a data with high-dimensional features. Visualize the relationships between the features in a 2D plot while preserving as much information as possible. Hint: Use random values for the high-dimensional data."
      ],
      "metadata": {
        "id": "p97VkFoSfdOd"
      }
    },
    {
      "cell_type": "markdown",
      "source": [
        "**Question 26:**Suppose you have three arrays representing the coordinates of points in 3D space. How would you use Matplotlib to create a 3D scatter plot to visualize the distribution of points in 3D space?"
      ],
      "metadata": {
        "id": "fN3OEGW9fiZS"
      }
    },
    {
      "cell_type": "markdown",
      "source": [
        "**Question 27:**Suppose you have a DataFrame containing sales data for different products across different months. How would you use pandas to create a grouped bar plot that visualizes the total sales for each product category, with bars grouped by month?\n",
        "\n",
        "Sample sales data: 'Month': ['Jan', 'Jan', 'Feb', 'Feb', 'Mar', 'Mar'], 'Product Category': ['A', 'B', 'A', 'B', 'A', 'B'], 'Sales': [100, 150, 120, 180, 130, 160]"
      ],
      "metadata": {
        "id": "ETU3MTlBfnsd"
      }
    },
    {
      "cell_type": "markdown",
      "source": [
        "**Question 28:**Given two arrays representing the values of two variables, how would you use Matplotlib to create a custom visualization that combines a line plot and a scatter plot, where the line plot connects the mean values of the variables and the scatter plot represents individual data points?"
      ],
      "metadata": {
        "id": "jNPILouwfr81"
      }
    },
    {
      "cell_type": "markdown",
      "source": [
        "**Question 29:**Given latitude and longitude coordinates of different locations, how would you use Folium to create an interactive map visualization that displays markers for each location, with pop-up information when clicked? Sample data: different locations and information (location=[37.7749, -122.4194], area=San Francisco) (location=[34.0522, -118.2437], area=Los Angeles) (location=[40.7128, -74.0060], area=New York)"
      ],
      "metadata": {
        "id": "8bZu68okfw9r"
      }
    },
    {
      "cell_type": "markdown",
      "source": [
        "**Question 30:**Imagine you have two arrays representing samples from two different distributions. How would you use Seaborn to create a jointplot that displays the bivariate relationship between the samples along with the univariate distributions of each sample?\n",
        "Hint: Generate sample data"
      ],
      "metadata": {
        "id": "7bWq6Dxpf1FG"
      }
    },
    {
      "cell_type": "markdown",
      "source": [
        "**Question 31:**Suppose you have a time series dataset representing daily stock prices for multiple companies. How would you use Plotly Express to create an interactive line plot that visualizes the daily stock prices for each company over time, with the ability to toggle the visibility of each company's data?\n",
        "Hint: generate random time series data."
      ],
      "metadata": {
        "id": "RQGEv1XCf8gg"
      }
    },
    {
      "cell_type": "markdown",
      "source": [
        "**Question 32:**Suppose you have a DataFrame containing exam scores for two groups of students (Group A and Group B). How would you use pandas to create a violin plot that visualizes the distribution of exam scores for each group, allowing for a comparative analysis of their score distributions?"
      ],
      "metadata": {
        "id": "8z9PKz0JgCZq"
      }
    },
    {
      "cell_type": "markdown",
      "source": [
        "**Question 33:** Suppose you have a DataFrame containing information about the age and gender of individuals. How would you use pandas to create a violin plot that visualizes the distribution of ages for each gender, allowing for a comparison of age distributions between males and females?"
      ],
      "metadata": {
        "id": "mrITOJVMgGGs"
      }
    },
    {
      "cell_type": "markdown",
      "source": [
        "**Question 34:**Imagine you have a DataFrame containing information about the income and education level of individuals. How would you use pandas to create a violin plot that visualizes the distribution of incomes for each education level, allowing for a comparison of income distributions across different education levels?"
      ],
      "metadata": {
        "id": "6gdp4b5jgOcS"
      }
    }
  ]
}
