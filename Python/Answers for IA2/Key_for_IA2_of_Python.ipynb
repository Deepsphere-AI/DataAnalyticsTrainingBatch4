{
  "nbformat": 4,
  "nbformat_minor": 0,
  "metadata": {
    "colab": {
      "provenance": [],
      "authorship_tag": "ABX9TyOVti4NymQQhDl4taL4b13r",
      "include_colab_link": true
    },
    "kernelspec": {
      "name": "python3",
      "display_name": "Python 3"
    },
    "language_info": {
      "name": "python"
    }
  },
  "cells": [
    {
      "cell_type": "markdown",
      "metadata": {
        "id": "view-in-github",
        "colab_type": "text"
      },
      "source": [
        "<a href=\"https://colab.research.google.com/github/Deepsphere-AI/DataAnalyticsTrainingBatch4/blob/main/Python/Answers%20for%20IA2/Key_for_IA2_of_Python.ipynb\" target=\"_parent\"><img src=\"https://colab.research.google.com/assets/colab-badge.svg\" alt=\"Open In Colab\"/></a>"
      ]
    },
    {
      "cell_type": "code",
      "execution_count": 1,
      "metadata": {
        "colab": {
          "base_uri": "https://localhost:8080/"
        },
        "id": "f0aJfdq5bZXg",
        "outputId": "19239c28-e446-4550-9a4e-006e1f03a837"
      },
      "outputs": [
        {
          "output_type": "stream",
          "name": "stdout",
          "text": [
            "[[ 76.2195 149.685   29.07  ]\n",
            " [225.9045 105.2895 178.755 ]\n",
            " [126.9873 199.98    49.995 ]]\n"
          ]
        }
      ],
      "source": [
        "#Q1\n",
        "\n",
        "import numpy as np\n",
        "\n",
        "def rgb_to_grayscale(rgb_image):\n",
        "    # Ensure input is a NumPy array\n",
        "    rgb_image = np.array(rgb_image)\n",
        "\n",
        "    # Check if the array has three dimensions (height, width, RGB channels)\n",
        "    if rgb_image.ndim != 3 or rgb_image.shape[2] != 3:\n",
        "        raise ValueError(\"Input should be a 3D NumPy array representing an RGB image\")\n",
        "\n",
        "    # Apply the luminosity method to convert RGB to grayscale\n",
        "    grayscale_image = np.dot(rgb_image, [0.2989, 0.5870, 0.1140])\n",
        "\n",
        "    return grayscale_image\n",
        "\n",
        "# Example usage:\n",
        "rgb_image = np.array([[[255, 0, 0], [0, 255, 0], [0, 0, 255]],\n",
        "                      [[255, 255, 0], [255, 0, 255], [0, 255, 255]],\n",
        "                      [[127, 127, 127], [200, 200, 200], [50, 50, 50]]])\n",
        "\n",
        "grayscale_image = rgb_to_grayscale(rgb_image)\n",
        "print(grayscale_image)"
      ]
    },
    {
      "cell_type": "code",
      "source": [
        "#Q2\n",
        "\n",
        "import numpy as np\n",
        "\n",
        "def normalize_attributes(data):\n",
        "    # Calculate the mean and standard deviation along the attribute axis (axis 0)\n",
        "    mean = np.mean(data, axis=0)\n",
        "    std_dev = np.std(data, axis=0)\n",
        "\n",
        "    # Apply normalization formula: (x - mean) / std_dev\n",
        "    normalized_data = (data - mean) / std_dev\n",
        "\n",
        "    return normalized_data\n",
        "\n",
        "# Example usage:\n",
        "# Assuming data is a multidimensional NumPy array with attributes like height, weight, age\n",
        "data = np.array([[160, 60, 25],\n",
        "                 [170, 65, 30],\n",
        "                 [180, 70, 35]])\n",
        "\n",
        "normalized_data = normalize_attributes(data)\n",
        "print(\"Normalized data:\")\n",
        "print(normalized_data)\n"
      ],
      "metadata": {
        "colab": {
          "base_uri": "https://localhost:8080/"
        },
        "id": "BC5CRz7Obdxm",
        "outputId": "fb9d9531-7a5e-45da-8cc8-30c84bedb0ab"
      },
      "execution_count": 2,
      "outputs": [
        {
          "output_type": "stream",
          "name": "stdout",
          "text": [
            "Normalized data:\n",
            "[[-1.22474487 -1.22474487 -1.22474487]\n",
            " [ 0.          0.          0.        ]\n",
            " [ 1.22474487  1.22474487  1.22474487]]\n"
          ]
        }
      ]
    },
    {
      "cell_type": "code",
      "source": [
        "#Q3\n",
        "import numpy as np\n",
        "\n",
        "def reorganize_sensor_data(data):\n",
        "    # Get the shape of the input data\n",
        "    num_sensors, rows, cols = data.shape\n",
        "\n",
        "    # Flatten the data from each sensor\n",
        "    flattened_data = data.reshape(num_sensors, -1)\n",
        "\n",
        "    # Reshape the flattened data so that each sensor's data forms a single row\n",
        "    reorganized_data = flattened_data.reshape(num_sensors, -1)\n",
        "\n",
        "    return reorganized_data\n",
        "\n",
        "# Example usage:\n",
        "# Suppose sensor_data is a 3D NumPy array representing data collected from multiple sensors\n",
        "sensor_data = np.array([[[1, 2, 3],\n",
        "                         [4, 5, 6]],\n",
        "                        [[7, 8, 9],\n",
        "                         [10, 11, 12]],\n",
        "                        [[13, 14, 15],\n",
        "                         [16, 17, 18]]])\n",
        "\n",
        "reorganized_data = reorganize_sensor_data(sensor_data)\n",
        "print(\"Reorganized data:\")\n",
        "print(reorganized_data)"
      ],
      "metadata": {
        "colab": {
          "base_uri": "https://localhost:8080/"
        },
        "id": "BIdGDp_JblVG",
        "outputId": "4aa12e7f-b35c-4f99-8182-c4743701e043"
      },
      "execution_count": 3,
      "outputs": [
        {
          "output_type": "stream",
          "name": "stdout",
          "text": [
            "Reorganized data:\n",
            "[[ 1  2  3  4  5  6]\n",
            " [ 7  8  9 10 11 12]\n",
            " [13 14 15 16 17 18]]\n"
          ]
        }
      ]
    },
    {
      "cell_type": "code",
      "source": [
        "#Q4\n",
        "import numpy as np\n",
        "\n",
        "def calculate_improvement(scores):\n",
        "    # Get the number of athletes (rows) and number of games (columns)\n",
        "    num_athletes, num_games = scores.shape\n",
        "\n",
        "    # Index the scores of the first and last games for each athlete\n",
        "    first_game_scores = scores[:, 0]  # Indexing the first column\n",
        "    last_game_scores = scores[:, -1]   # Indexing the last column\n",
        "\n",
        "    # Compute the improvement for each athlete\n",
        "    improvement = last_game_scores - first_game_scores\n",
        "\n",
        "    return improvement\n",
        "\n",
        "# Example usage:\n",
        "# Assuming scores is a 2D NumPy array where each row represents an athlete's performance scores\n",
        "scores = np.array([[10, 15, 20, 25],\n",
        "                   [12, 18, 22, 30],\n",
        "                   [8, 14, 16, 18]])\n",
        "\n",
        "improvement = calculate_improvement(scores)\n",
        "print(\"Improvement in performance for each athlete:\")\n",
        "print(improvement)"
      ],
      "metadata": {
        "colab": {
          "base_uri": "https://localhost:8080/"
        },
        "id": "FWLQkrPBc2QA",
        "outputId": "b905f2d5-dddf-4a16-bce3-2a0a3bab279b"
      },
      "execution_count": 4,
      "outputs": [
        {
          "output_type": "stream",
          "name": "stdout",
          "text": [
            "Improvement in performance for each athlete:\n",
            "[15 18 10]\n"
          ]
        }
      ]
    },
    {
      "cell_type": "code",
      "source": [
        "#Q5\n",
        "import numpy as np\n",
        "\n",
        "def calculate_average_last_three_subjects(scores):\n",
        "    # Slice the array to include only the last three subjects for each student\n",
        "    last_three_subjects_scores = scores[:, -3:]\n",
        "\n",
        "    # Filter out the scores marked as 'exempt' (-1)\n",
        "    valid_scores = np.ma.masked_equal(last_three_subjects_scores, -1)\n",
        "\n",
        "    # Compute the average for each student\n",
        "    average_scores = valid_scores.mean(axis=1)\n",
        "\n",
        "    return average_scores\n",
        "\n",
        "# Example usage:\n",
        "# Assuming scores is a 2D NumPy array where each row represents a student's scores in various subjects\n",
        "scores = np.array([[80, 90, 85, -1, 92],\n",
        "                   [70, 75, -1, 85, 88],\n",
        "                   [88, 82, 90, 92, 95]])\n",
        "\n",
        "average_last_three_subjects = calculate_average_last_three_subjects(scores)\n",
        "print(\"Average score in the last three subjects for each student:\")\n",
        "print(average_last_three_subjects)"
      ],
      "metadata": {
        "colab": {
          "base_uri": "https://localhost:8080/"
        },
        "id": "Ofg-mnVUc9Hd",
        "outputId": "50f5d4fc-c98f-4cc7-8c83-4dc131449ee4"
      },
      "execution_count": 5,
      "outputs": [
        {
          "output_type": "stream",
          "name": "stdout",
          "text": [
            "Average score in the last three subjects for each student:\n",
            "[88.5 86.5 92.33333333333333]\n"
          ]
        }
      ]
    },
    {
      "cell_type": "code",
      "source": [
        "#Q6\n",
        "import numpy as np\n",
        "\n",
        "def apply_monthly_adjustments(city_temperatures, adjustment_factors):\n",
        "    # Ensure both arrays have compatible shapes for broadcasting\n",
        "    if city_temperatures.shape[1] != adjustment_factors.shape[0]:\n",
        "        raise ValueError(\"Number of months in city temperatures array does not match adjustment factors array\")\n",
        "\n",
        "    # Apply adjustments using broadcasting\n",
        "    adjusted_temperatures = city_temperatures + adjustment_factors\n",
        "\n",
        "    return adjusted_temperatures\n",
        "\n",
        "# Example usage:\n",
        "# Assuming city_temperatures is a 2D NumPy array and adjustment_factors is a 1D NumPy array\n",
        "city_temperatures = np.array([[20, 25, 30, 22],\n",
        "                               [18, 22, 28, 20],\n",
        "                               [15, 20, 25, 18]])\n",
        "\n",
        "adjustment_factors = np.array([1.5, 2.0, 1.0, 1.2])\n",
        "\n",
        "adjusted_temperatures = apply_monthly_adjustments(city_temperatures, adjustment_factors)\n",
        "print(\"Adjusted temperatures:\")\n",
        "print(adjusted_temperatures)"
      ],
      "metadata": {
        "colab": {
          "base_uri": "https://localhost:8080/"
        },
        "id": "xIPnqZ5mdCsw",
        "outputId": "26eded83-2779-4bc8-ca6d-ec9e8b760006"
      },
      "execution_count": 6,
      "outputs": [
        {
          "output_type": "stream",
          "name": "stdout",
          "text": [
            "Adjusted temperatures:\n",
            "[[21.5 27.  31.  23.2]\n",
            " [19.5 24.  29.  21.2]\n",
            " [16.5 22.  26.  19.2]]\n"
          ]
        }
      ]
    },
    {
      "cell_type": "code",
      "source": [
        "#Q7\n",
        "data = {'Name': ['Alice', 'Bob', 'Charlie', 'David', 'Eve', 'Frank', 'Grace'],\n",
        "        'Age': [25, 30, 35, 40, 45, 50, 55],\n",
        "        'City': ['New York', 'Los Angeles', 'Chicago', 'Houston', 'Phoenix', 'Miami', 'Boston'],\n",
        "        'Department': ['HR', 'IT', 'Finance', 'Marketing', 'Sales', 'IT', 'HR']}\n",
        "\n",
        "# Convert data to a pandas DataFrame for easier manipulation\n",
        "import pandas as pd\n",
        "df = pd.DataFrame(data)\n",
        "\n",
        "# Filter employees under 45 who are not in the HR department\n",
        "filtered_df = df[(df['Age'] < 45) & (df['Department'] != 'HR')]\n",
        "\n",
        "# Extract names and cities of the filtered employees\n",
        "employees_list = filtered_df[['Name', 'City']].values.tolist()\n",
        "\n",
        "print(\"List of employees under 45 not in HR department:\")\n",
        "print(employees_list)"
      ],
      "metadata": {
        "colab": {
          "base_uri": "https://localhost:8080/"
        },
        "id": "I1AJ7uvWdLOB",
        "outputId": "749437b0-88d3-4e17-dfeb-7be5bbd6e58b"
      },
      "execution_count": 7,
      "outputs": [
        {
          "output_type": "stream",
          "name": "stdout",
          "text": [
            "List of employees under 45 not in HR department:\n",
            "[['Bob', 'Los Angeles'], ['Charlie', 'Chicago'], ['David', 'Houston']]\n"
          ]
        }
      ]
    },
    {
      "cell_type": "code",
      "source": [
        "#Q8\n",
        "import pandas as pd\n",
        "\n",
        "# Create DataFrame from the given data\n",
        "data = {\n",
        "    'Product': ['Apples', 'Bananas', 'Cherries', 'Dates', 'Elderberries', 'Flour', 'Grapes'],\n",
        "    'Category': ['Fruit', 'Fruit', 'Fruit', 'Fruit', 'Fruit', 'Bakery', 'Fruit'],\n",
        "    'Price': [1.20, 0.50, 3.00, 2.50, 4.00, 1.50, 2.00],\n",
        "    'Promotion': [True, False, True, True, False, True, False]\n",
        "}\n",
        "\n",
        "df = pd.DataFrame(data)\n",
        "\n",
        "# Filter products from the 'Fruit' category\n",
        "fruit_df = df[df['Category'] == 'Fruit']\n",
        "\n",
        "# Calculate the average price for the 'Fruit' category\n",
        "average_price_fruit = fruit_df['Price'].mean()\n",
        "\n",
        "# Identify products that are both above average price and not part of any promotion\n",
        "potential_promotions = fruit_df[(fruit_df['Price'] > average_price_fruit) & (~fruit_df['Promotion'])]\n",
        "\n",
        "print(\"Potential candidates for future promotions:\")\n",
        "print(potential_promotions)"
      ],
      "metadata": {
        "colab": {
          "base_uri": "https://localhost:8080/"
        },
        "id": "84B98e6sdQwy",
        "outputId": "cf015f27-85f4-4aa8-c734-e09fad6604a1"
      },
      "execution_count": 8,
      "outputs": [
        {
          "output_type": "stream",
          "name": "stdout",
          "text": [
            "Potential candidates for future promotions:\n",
            "        Product Category  Price  Promotion\n",
            "4  Elderberries    Fruit    4.0      False\n"
          ]
        }
      ]
    },
    {
      "cell_type": "code",
      "source": [
        "#Q9\n",
        "import pandas as pd\n",
        "\n",
        "# Define the employee data\n",
        "employee_data = {\n",
        "    'Employee': ['Alice', 'Bob', 'Charlie', 'David'],\n",
        "    'Department': ['HR', 'IT', 'Finance', 'IT'],\n",
        "    'Manager': ['John', 'Rachel', 'Emily', 'Rachel']\n",
        "}\n",
        "\n",
        "# Define the project data\n",
        "project_data = {\n",
        "    'Employee': ['Alice', 'Charlie', 'Eve'],\n",
        "    'Project': ['P1', 'P3', 'P2']\n",
        "}\n",
        "\n",
        "# Create DataFrames from the data\n",
        "employee_df = pd.DataFrame(employee_data)\n",
        "project_df = pd.DataFrame(project_data)\n",
        "\n",
        "# Merge the employee and project data based on the 'Employee' column\n",
        "merged_df = pd.merge(project_df, employee_df, on='Employee', how='left')\n",
        "\n",
        "# Fill missing values in 'Department' and 'Manager' columns with appropriate values\n",
        "merged_df['Department'] = merged_df['Department'].fillna('Unassigned')\n",
        "merged_df['Manager'] = merged_df['Manager'].fillna('Unassigned')\n",
        "\n",
        "# Group by department and manager to get an overview of each department's projects\n",
        "department_overview = merged_df.groupby(['Department', 'Manager'])['Project'].apply(list).reset_index()\n",
        "\n",
        "print(\"Departmental Overview:\")\n",
        "print(department_overview)"
      ],
      "metadata": {
        "colab": {
          "base_uri": "https://localhost:8080/"
        },
        "id": "ziDqL00NdaeF",
        "outputId": "0ad1d3f2-5f86-4a99-8e43-58e9776d8c69"
      },
      "execution_count": 9,
      "outputs": [
        {
          "output_type": "stream",
          "name": "stdout",
          "text": [
            "Departmental Overview:\n",
            "   Department     Manager Project\n",
            "0     Finance       Emily    [P3]\n",
            "1          HR        John    [P1]\n",
            "2  Unassigned  Unassigned    [P2]\n"
          ]
        }
      ]
    },
    {
      "cell_type": "code",
      "source": [
        "#Q10\n",
        "import pandas as pd\n",
        "\n",
        "data = {\n",
        "    'Department': ['Electronics', 'Electronics', 'Clothing', 'Clothing', 'Home Goods'],\n",
        "    'Salesperson': ['Alice', 'Bob', 'Charlie', 'David', 'Eve'],\n",
        "    'Sales': [70000, 50000, 30000, 40000, 60000]\n",
        "}\n",
        "\n",
        "# Create a DataFrame from the data\n",
        "df = pd.DataFrame(data)\n",
        "\n",
        "# Calculate total sales per department\n",
        "department_sales = df.groupby('Department')['Sales'].sum()\n",
        "\n",
        "# Count the number of salespeople in each department\n",
        "department_salespeople_count = df.groupby('Department')['Salesperson'].size()\n",
        "\n",
        "# Calculate average sales per salesperson in each department\n",
        "average_sales_per_salesperson = department_sales / department_salespeople_count\n",
        "\n",
        "# Rank the departments based on their average sales\n",
        "ranked_departments = average_sales_per_salesperson.sort_values(ascending=False).reset_index()\n",
        "\n",
        "# Add salespeople count to the ranked departments DataFrame\n",
        "ranked_departments['Salespeople Count'] = department_salespeople_count.reset_index(drop=True)\n",
        "\n",
        "print(\"Ranked Departments based on Average Sales per Salesperson:\")\n",
        "print(ranked_departments)"
      ],
      "metadata": {
        "colab": {
          "base_uri": "https://localhost:8080/"
        },
        "id": "Tbp7hS3-dkGV",
        "outputId": "4327c0e8-3046-4428-ecb0-3e8015a0a73b"
      },
      "execution_count": 10,
      "outputs": [
        {
          "output_type": "stream",
          "name": "stdout",
          "text": [
            "Ranked Departments based on Average Sales per Salesperson:\n",
            "    Department        0  Salespeople Count\n",
            "0  Electronics  60000.0                  2\n",
            "1   Home Goods  60000.0                  2\n",
            "2     Clothing  35000.0                  1\n"
          ]
        }
      ]
    }
  ]
}