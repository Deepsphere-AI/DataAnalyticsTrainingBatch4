{
  "nbformat": 4,
  "nbformat_minor": 0,
  "metadata": {
    "colab": {
      "provenance": [],
      "include_colab_link": true
    },
    "kernelspec": {
      "name": "python3",
      "display_name": "Python 3"
    },
    "language_info": {
      "name": "python"
    }
  },
  "cells": [
    {
      "cell_type": "markdown",
      "metadata": {
        "id": "view-in-github",
        "colab_type": "text"
      },
      "source": [
        "<a href=\"https://colab.research.google.com/github/Deepsphere-AI/DataAnalyticsTrainingBatch4/blob/main/PredictiveAnalytics/TeachingMaterial/DSAI_LVA_Course4_Predictive_Analytics_Unit1.ipynb\" target=\"_parent\"><img src=\"https://colab.research.google.com/assets/colab-badge.svg\" alt=\"Open In Colab\"/></a>"
      ]
    },
    {
      "cell_type": "code",
      "execution_count": null,
      "metadata": {
        "colab": {
          "base_uri": "https://localhost:8080/"
        },
        "id": "TOMdOd-hxSfk",
        "outputId": "b0229a45-9faf-46b0-c56a-7365bb1a3400"
      },
      "outputs": [
        {
          "output_type": "stream",
          "name": "stdout",
          "text": [
            "[1]\n",
            "Apple\n"
          ]
        }
      ],
      "source": [
        "##~~~~~~~~~~~~~~~~~~~~~~~~~~~~~~~\n",
        "## Your first machine learning model\n",
        "## A simple binary class classification ## Output/Label/Target is Only Two Labels (Values)\n",
        "## Decision Tree\n",
        "## Learning Objectives:\n",
        "##     Features\n",
        "##     Labels\n",
        "##     Fit Method\n",
        "##     Predict  Method\n",
        "##~~~~~~~~~~~~~~~~~~~~~~~~~~~~~~~\n",
        "from sklearn import tree\n",
        "\n",
        "vAR_featuers = [[140,1],[130,1],[150,0],[170,0]] ## [[Weight, Texture]]\n",
        "vAR_labels = [0,0,1,1] ## [ 0= Orange, 1=Apple]\n",
        "\n",
        "vAR_clf=tree.DecisionTreeClassifier()\n",
        "vAR_clf=vAR_clf.fit(vAR_featuers,vAR_labels)\n",
        "\n",
        "vAR_ModelOutcome = vAR_clf.predict([[150,0]]) ## [[Weigh, Texture]]\n",
        "\n",
        "print(vAR_ModelOutcome)\n",
        "\n",
        "if vAR_ModelOutcome == 1:\n",
        "  print(\"Apple\")\n",
        "elif vAR_ModelOutcome == 0:\n",
        "  print(\"Orange\")"
      ]
    },
    {
      "cell_type": "code",
      "source": [
        "##~~~~~~~~~~~~~~~~~~~~~~~~~~~~~~~\n",
        "## Your first machine learning model\n",
        "## A simple binary class classification ## Output/Label/Target is Only Two Labels (Values)\n",
        "## Random Forest\n",
        "## Learning Objectives:\n",
        "##     Features\n",
        "##     Labels\n",
        "##     Fit Method\n",
        "##     Predict  Method\n",
        "##     Encoding\n",
        "##~~~~~~~~~~~~~~~~~~~~~~~~~~~~~~~\n",
        "from sklearn.ensemble import RandomForestClassifier\n",
        "vAR_featuers = [[140,'Rough'],[130,'Rough'],[150,'Smooth'],[170,'Smooth']] ## [[Weigh, Texture]]\n",
        "vAR_labels = ['Orange','Orange','Apple','Apple'] ## [ 0= Orange, 1=Apple]\n",
        "\n",
        "X = [[140,1],[130,1],[150,0],[170,0]] ## Encoding, Featuers\n",
        "y= [0,0,1,1] ## Encoding, Lables\n",
        "\n",
        "vAR_clf=RandomForestClassifier()\n",
        "vAR_clf=vAR_clf.fit(X,y)\n",
        "vAR_ModelOutcome = vAR_clf.predict([[140,1]]) ## [[Weigh, Texture]]\n",
        "\n",
        "print(vAR_ModelOutcome)\n",
        "\n",
        "if vAR_ModelOutcome == 1:\n",
        "  print(\"Apple\")\n",
        "elif vAR_ModelOutcome == 0:\n",
        "  print(\"Orange\")"
      ],
      "metadata": {
        "colab": {
          "base_uri": "https://localhost:8080/"
        },
        "id": "wHFV8LRUxXaH",
        "outputId": "10de2c76-bb9a-4c21-cc4e-aa07d7245b2d"
      },
      "execution_count": null,
      "outputs": [
        {
          "output_type": "stream",
          "name": "stdout",
          "text": [
            "[0]\n",
            "Orange\n"
          ]
        }
      ]
    },
    {
      "cell_type": "code",
      "source": [
        "##~~~~~~~~~~~~~~~~~~~~~~~~~~~~~~~\n",
        "## Your first machine learning model\n",
        "## A simple binary class classification ## Output/Label/Target is Only Two Labels (Values)\n",
        "## LogisticRegression\n",
        "## Learning Objectives:\n",
        "##     Features\n",
        "##     Labels\n",
        "##     Fit Method\n",
        "##     Predict  Method\n",
        "##     Encoding\n",
        "##~~~~~~~~~~~~~~~~~~~~~~~~~~~~~~~\n",
        "from sklearn.linear_model import LogisticRegression\n",
        "\n",
        "vAR_featuers = [[140,'Rough'],[130,'Rough'],[150,'Smooth'],[170,'Smooth']] ## [[Weigh, Texture]]\n",
        "vAR_labels = [0,0,1,1] ## [ 0= Orange, 1=Apple]\n",
        "\n",
        "X = [[140,1],[130,1],[150,0],[170,0]] ## [[Weigh, Texture]] ## Encoding, Featuers\n",
        "\n",
        "\n",
        "vAR_clf=LogisticRegression()\n",
        "vAR_clf=vAR_clf.fit(X,vAR_labels)\n",
        "vAR_ModelOutcome = vAR_clf.predict([[140,1]]) ## [[Weigh, Texture]]\n",
        "print(vAR_ModelOutcome)\n",
        "if vAR_ModelOutcome == 1:\n",
        "  print(\"Apple\")\n",
        "elif vAR_ModelOutcome == 0:\n",
        "  print(\"Orange\")"
      ],
      "metadata": {
        "colab": {
          "base_uri": "https://localhost:8080/"
        },
        "id": "3Udg6PZCxg1N",
        "outputId": "1f160d61-7103-46a7-dc0c-829832395f3e"
      },
      "execution_count": null,
      "outputs": [
        {
          "output_type": "stream",
          "name": "stdout",
          "text": [
            "[0]\n",
            "Orange\n"
          ]
        }
      ]
    },
    {
      "cell_type": "code",
      "source": [
        "##~~~~~~~~~~~~~~~~~~~~~~~~~~~~~~~\n",
        "##\n",
        "## A Multi-Class classification ## Output/Label/Target is More than Two Labels (Values)\n",
        "##  Setosa = 0       = Label #1\n",
        "##  Versicolor = 1   = Label #2\n",
        "##  Virginica = 2    = Label #3\n",
        "##\n",
        "## DecisionTree\n",
        "## By Jothi\n",
        "##~~~~~~~~~~~~~~~~~~~~~~~~~~~~~~~\n",
        "\n",
        "from sklearn.datasets import load_iris\n",
        "import numpy as np\n",
        "iris = load_iris()\n",
        "#print(iris.feature_names) # ['sepal length (cm)', 'sepal width (cm)', 'petal length (cm)', 'petal width (cm)']\n",
        "#print(iris.target_names) # ['setosa' 'versicolor' 'virginica']\n",
        "#print(iris.data[0]) # [5.1 3.5 1.4 0.2]\n",
        "#print(iris.target[0]) # 0\n",
        "#for i in range(len(iris.target)):\n",
        "#\tprint(\"Example %d: Label %s, features %s\" % (i, iris.target[i],iris.data[i]))\n",
        "\n",
        "test_idx = [0,50,100]\n",
        "#print(test_idx)\n",
        "# Training Data\n",
        "Training_target =  np.delete(iris.target, test_idx)\n",
        "Training_data = np.delete(iris.data, test_idx, axis=0)\n",
        "\n",
        "# Test Data\n",
        "Test_target = iris.target[test_idx]\n",
        "Test_data = iris.data[test_idx]\n",
        "\n",
        "# Classifier\n",
        "from sklearn import tree\n",
        "clf =  tree.DecisionTreeClassifier()\n",
        "clf.fit(Training_data,Training_target)\n",
        "#print(Test_target)\n",
        "#print(Test_data)\n",
        "vAR_ModelOutcome=clf.predict(Test_data)\n",
        "print(vAR_ModelOutcome)\n",
        "\n",
        "import six\n",
        "import sys\n",
        "sys.modules['sklearn.externals.six'] = six\n",
        "from sklearn.externals.six import StringIO\n",
        "import pydot\n",
        "import pydotplus\n",
        "dot_data = StringIO()\n",
        "tree.export_graphviz(clf,out_file=dot_data,feature_names=iris.feature_names,class_names=iris.target_names,filled=True, rounded=True, impurity=False)\n",
        "#graph = pydot.graph_from_dot_data(dot_data.getvalue())\n",
        "graph = pydot.graph_from_dot_data(dot_data.getvalue())\n",
        "graph[0].write_pdf(\"iris.pdf\")"
      ],
      "metadata": {
        "colab": {
          "base_uri": "https://localhost:8080/"
        },
        "id": "9AVHHIPX2s-A",
        "outputId": "85b131cf-3815-4d44-c2fe-9a0f8554ecc8"
      },
      "execution_count": null,
      "outputs": [
        {
          "output_type": "stream",
          "name": "stdout",
          "text": [
            "[0 1 2]\n"
          ]
        }
      ]
    }
  ]
}